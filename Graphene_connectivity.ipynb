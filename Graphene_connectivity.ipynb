{
 "cells": [
  {
   "cell_type": "code",
   "execution_count": 1,
   "id": "b72cd33f-d226-4be9-b62a-ffecc5437a7c",
   "metadata": {},
   "outputs": [],
   "source": [
    "from representation_matrices_explicit import GroupD6h, GroupD6D3hC6v, BaseGroup\n",
    "from graphene.graphene import GrapheneHamiltonian, CosetReps\n",
    "from utility_functions import irrep_decomposition, is_faithful, character_of_representation, projection_operator, ismember\n",
    "import numpy as np\n",
    "import sympy as sp\n",
    "\n",
    "%load_ext autoreload\n",
    "%autoreload 2\n"
   ]
  },
  {
   "cell_type": "code",
   "execution_count": 2,
   "id": "8fe01ce6-e87c-4126-b9de-3ee2d8023e69",
   "metadata": {},
   "outputs": [],
   "source": [
    "sp.init_printing()"
   ]
  },
  {
   "cell_type": "code",
   "execution_count": 3,
   "id": "68a536d8-0f62-47d3-8ac7-87a94501586e",
   "metadata": {},
   "outputs": [],
   "source": [
    "graphene = GrapheneHamiltonian(with_spin=True)\n",
    "graphene.run_setup(wyckoff_position='2b')"
   ]
  },
  {
   "cell_type": "code",
   "execution_count": 4,
   "id": "8dd402e3-fb6e-4797-a708-32d0b2b58912",
   "metadata": {},
   "outputs": [],
   "source": [
    "br_pz_G = graphene.generate_band_representation('g2m', 'G')\n",
    "br_pz_K = graphene.generate_band_representation('g2m', 'K')\n",
    "br_pz_M = graphene.generate_band_representation('g2m', 'M')\n",
    "br_pz_spin_G = graphene.generate_band_representation('g8p', 'G')\n",
    "br_pz_spin_K = graphene.generate_band_representation('g8p', 'K')\n",
    "br_pz_spin_M = graphene.generate_band_representation('g8p', 'M')"
   ]
  },
  {
   "cell_type": "code",
   "execution_count": 36,
   "id": "ee1c5530-870f-4e99-ae2e-e983b6b21284",
   "metadata": {},
   "outputs": [],
   "source": [
    "def projection_operator_k_point(self: GrapheneHamiltonian, k_point_name: str, band_rep: list, irrep_in_decomp_name: str):\n",
    "    if k_point_name.upper() == self.group_of_G.name:\n",
    "        group_k = self.group_of_G\n",
    "    elif k_point_name.upper() == self.group_of_K.name:\n",
    "        group_k = self.group_of_K\n",
    "    elif k_point_name.upper() == self.group_of_M.name:\n",
    "        group_k = self.group_of_M\n",
    "    else:\n",
    "        raise NotImplementedError('k point not implemented')\n",
    "\n",
    "    \n",
    "    mu = group_k.group.irreducible_representations[irrep_in_decomp_name]\n",
    "    d_mu = mu[0].shape[0] if isinstance(mu[0], sp.MatrixBase) or isinstance(mu[0], np.ndarray) else 1\n",
    "    results = {}\n",
    "    for i in range(d_mu):\n",
    "        for j in range(d_mu):\n",
    "            results[i, j] = projection_operator(mu, band_rep, i, j)\n",
    "\n",
    "    return results\n",
    "            \n",
    "    "
   ]
  },
  {
   "cell_type": "code",
   "execution_count": 34,
   "id": "fd0b9313-4a4f-45d2-ad7e-976daea1c7f8",
   "metadata": {},
   "outputs": [
    {
     "data": {
      "text/plain": [
       "{'g5p': 1, 'g5m': 1}"
      ]
     },
     "execution_count": 34,
     "metadata": {},
     "output_type": "execute_result"
    }
   ],
   "source": [
    "irrep_decomposition(\n",
    "    character_of_representation(br_pz_spin_M), \n",
    "    graphene.group_of_M.group.irreducible_representations\n",
    ")"
   ]
  },
  {
   "cell_type": "code",
   "execution_count": 39,
   "id": "4affa7eb-db0d-4ab5-b5f1-dafd83b2c73a",
   "metadata": {},
   "outputs": [],
   "source": [
    "P_g4p = projection_operator_k_point(graphene, 'G', br_pz_G, 'g4p')\n",
    "P_g2m = projection_operator_k_point(graphene, 'G', br_pz_G, 'g2m')\n",
    "\n",
    "P_k5 = projection_operator_k_point(graphene, 'K', br_pz_K, 'g5')\n",
    "\n",
    "P_m4p = projection_operator_k_point(graphene, 'M', br_pz_M, 'g4p')\n",
    "P_m3m = projection_operator_k_point(graphene, 'M', br_pz_M, 'g3m')\n",
    "\n",
    "P_g8p = projection_operator_k_point(graphene, 'G', br_pz_spin_G, 'g8p')\n",
    "P_g7m = projection_operator_k_point(graphene, 'G', br_pz_spin_G, 'g7m')\n",
    "\n",
    "P_k7 = projection_operator_k_point(graphene, 'K', br_pz_spin_K, 'g7')\n",
    "P_k9 = projection_operator_k_point(graphene, 'K', br_pz_spin_K, 'g9')\n",
    "\n",
    "P_m5p = projection_operator_k_point(graphene, 'M', br_pz_spin_M, 'g5p')\n",
    "P_m5m = projection_operator_k_point(graphene, 'M', br_pz_spin_M, 'g5m')\n",
    "\n"
   ]
  },
  {
   "cell_type": "code",
   "execution_count": 40,
   "id": "fa825772-9c5e-4d91-9491-f3cbc689e692",
   "metadata": {},
   "outputs": [
    {
     "data": {
      "image/png": "[encoded data removed]",
      "text/latex": [
       "$\\displaystyle \\left\\{ \\left( 0, \\  0\\right) : \\left[\\begin{matrix}\\frac{1}{2} & 0 & \\frac{1}{2} & 0\\\\0 & 0 & 0 & 0\\\\\\frac{1}{2} & 0 & \\frac{1}{2} & 0\\\\0 & 0 & 0 & 0\\end{matrix}\\right], \\  \\left( 0, \\  1\\right) : \\left[\\begin{matrix}0 & \\frac{1}{2} & 0 & \\frac{1}{2}\\\\0 & 0 & 0 & 0\\\\0 & \\frac{1}{2} & 0 & \\frac{1}{2}\\\\0 & 0 & 0 & 0\\end{matrix}\\right], \\  \\left( 1, \\  0\\right) : \\left[\\begin{matrix}0 & 0 & 0 & 0\\\\\\frac{1}{2} & 0 & \\frac{1}{2} & 0\\\\0 & 0 & 0 & 0\\\\\\frac{1}{2} & 0 & \\frac{1}{2} & 0\\end{matrix}\\right], \\  \\left( 1, \\  1\\right) : \\left[\\begin{matrix}0 & 0 & 0 & 0\\\\0 & \\frac{1}{2} & 0 & \\frac{1}{2}\\\\0 & 0 & 0 & 0\\\\0 & \\frac{1}{2} & 0 & \\frac{1}{2}\\end{matrix}\\right]\\right\\}$"
      ],
      "text/plain": [
       "⎧        ⎡1/2  0  1/2  0⎤          ⎡0  1/2  0  1/2⎤          ⎡ 0   0   0   0⎤          ⎡0   0   0   0 ⎤⎫\n",
       "⎪        ⎢              ⎥          ⎢              ⎥          ⎢              ⎥          ⎢              ⎥⎪\n",
       "⎪        ⎢ 0   0   0   0⎥          ⎢0   0   0   0 ⎥          ⎢1/2  0  1/2  0⎥          ⎢0  1/2  0  1/2⎥⎪\n",
       "⎨(0, 0): ⎢              ⎥, (0, 1): ⎢              ⎥, (1, 0): ⎢              ⎥, (1, 1): ⎢              ⎥⎬\n",
       "⎪        ⎢1/2  0  1/2  0⎥          ⎢0  1/2  0  1/2⎥          ⎢ 0   0   0   0⎥          ⎢0   0   0   0 ⎥⎪\n",
       "⎪        ⎢              ⎥          ⎢              ⎥          ⎢              ⎥          ⎢              ⎥⎪\n",
       "⎩        ⎣ 0   0   0   0⎦          ⎣0   0   0   0 ⎦          ⎣1/2  0  1/2  0⎦          ⎣0  1/2  0  1/2⎦⎭"
      ]
     },
     "execution_count": 40,
     "metadata": {},
     "output_type": "execute_result"
    }
   ],
   "source": [
    "P_m5p"
   ]
  },
  {
   "cell_type": "code",
   "execution_count": 6,
   "id": "f4aea064-6780-42ca-9dc1-3b0c52610474",
   "metadata": {},
   "outputs": [
    {
     "data": {
      "image/png": "[encoded data removed]",
      "text/latex": [
       "$\\displaystyle \\left( \\left[\\begin{matrix}\\frac{1}{2} & \\frac{1}{2}\\\\\\frac{1}{2} & \\frac{1}{2}\\end{matrix}\\right], \\  \\left[\\begin{matrix}\\frac{1}{2} & - \\frac{1}{2}\\\\- \\frac{1}{2} & \\frac{1}{2}\\end{matrix}\\right], \\  \\left[\\begin{matrix}\\frac{1}{2} & \\frac{1}{2}\\\\\\frac{1}{2} & \\frac{1}{2}\\end{matrix}\\right], \\  \\left[\\begin{matrix}- \\frac{i}{2} & - \\frac{i}{2}\\\\\\frac{i}{2} & \\frac{i}{2}\\end{matrix}\\right], \\  \\left[\\begin{matrix}\\frac{i}{2} & - \\frac{i}{2}\\\\\\frac{i}{2} & - \\frac{i}{2}\\end{matrix}\\right], \\  \\left[\\begin{matrix}\\frac{1}{2} & - \\frac{1}{2}\\\\- \\frac{1}{2} & \\frac{1}{2}\\end{matrix}\\right], \\  \\left[\\begin{matrix}\\frac{1}{2} & \\frac{1}{2}\\\\\\frac{1}{2} & \\frac{1}{2}\\end{matrix}\\right], \\  \\left[\\begin{matrix}\\frac{1}{2} & - \\frac{1}{2}\\\\- \\frac{1}{2} & \\frac{1}{2}\\end{matrix}\\right]\\right)$"
      ],
      "text/plain": [
       "⎛                                      ⎡-ⅈ   -ⅈ ⎤  ⎡ⅈ  -ⅈ ⎤                                        ⎞\n",
       "⎜                                      ⎢───  ───⎥  ⎢─  ───⎥                                        ⎟\n",
       "⎜⎡1/2  1/2⎤  ⎡1/2   -1/2⎤  ⎡1/2  1/2⎤  ⎢ 2    2 ⎥  ⎢2   2 ⎥  ⎡1/2   -1/2⎤  ⎡1/2  1/2⎤  ⎡1/2   -1/2⎤⎟\n",
       "⎜⎢        ⎥, ⎢          ⎥, ⎢        ⎥, ⎢        ⎥, ⎢      ⎥, ⎢          ⎥, ⎢        ⎥, ⎢          ⎥⎟\n",
       "⎜⎣1/2  1/2⎦  ⎣-1/2  1/2 ⎦  ⎣1/2  1/2⎦  ⎢ ⅈ    ⅈ ⎥  ⎢ⅈ  -ⅈ ⎥  ⎣-1/2  1/2 ⎦  ⎣1/2  1/2⎦  ⎣-1/2  1/2 ⎦⎟\n",
       "⎜                                      ⎢ ─    ─ ⎥  ⎢─  ───⎥                                        ⎟\n",
       "⎝                                      ⎣ 2    2 ⎦  ⎣2   2 ⎦                                        ⎠"
      ]
     },
     "execution_count": 6,
     "metadata": {},
     "output_type": "execute_result"
    }
   ],
   "source": [
    "P_g4p, P_g2m, P_k5_00, P_k5_10, P_k5_01, P_k5_11, P_m4p, P_m3m"
   ]
  },
  {
   "cell_type": "code",
   "execution_count": null,
   "id": "c688f224-b26a-4c2a-abf4-9f075fbeac4e",
   "metadata": {},
   "outputs": [],
   "source": [
    "P_g4p * P_m4p"
   ]
  },
  {
   "cell_type": "code",
   "execution_count": null,
   "id": "767d88e3-6326-4978-8bce-ff7d7c8e9917",
   "metadata": {},
   "outputs": [],
   "source": [
    "P_g4p * P_m3m"
   ]
  },
  {
   "cell_type": "code",
   "execution_count": null,
   "id": "fe622208-0c3f-46ee-a4d6-4d35332fb112",
   "metadata": {},
   "outputs": [],
   "source": [
    "[R for R in br_pz_M]"
   ]
  },
  {
   "cell_type": "code",
   "execution_count": null,
   "id": "e97a6f0e-9a77-46a5-83ee-4f60c7c5f7da",
   "metadata": {},
   "outputs": [],
   "source": [
    "graphene.subgroup_to_elements_mapping_in_full_group(graphene.group_of_M.group)"
   ]
  },
  {
   "cell_type": "code",
   "execution_count": null,
   "id": "3c161c33-26ed-4757-834f-60da4d43ab3c",
   "metadata": {},
   "outputs": [],
   "source": [
    "{name: R for name, R in zip(graphene.subgroup_to_elements_mapping_in_full_group(graphene.group_of_M.group), br_pz_M)}"
   ]
  },
  {
   "cell_type": "code",
   "execution_count": null,
   "id": "a6d506e7-6848-40cc-8438-5d42e908efb6",
   "metadata": {},
   "outputs": [],
   "source": [
    "np.array(graphene.group.elements)[graphene.subgroup_indices_in_full_group(graphene.group_of_M.group)]"
   ]
  },
  {
   "cell_type": "code",
   "execution_count": null,
   "id": "af459691-e725-448f-b64f-f3a150f06fda",
   "metadata": {},
   "outputs": [],
   "source": [
    "graphene.subgroup_to_subgroup_mapping(graphene.group_of_K.group, graphene.site_symmetry_group, graphene.coset_reps_ssg)[1].shape"
   ]
  },
  {
   "cell_type": "code",
   "execution_count": 7,
   "id": "e9ae53e4-c4b3-41a2-9557-e52ad57a7a40",
   "metadata": {},
   "outputs": [
    {
     "data": {
      "text/plain": [
       "{'g8p': 1, 'g7m': 1}"
      ]
     },
     "execution_count": 7,
     "metadata": {},
     "output_type": "execute_result"
    }
   ],
   "source": []
  },
  {
   "cell_type": "code",
   "execution_count": null,
   "id": "bf6e92fc-46ce-4fbd-92a8-8c6fab0e3604",
   "metadata": {},
   "outputs": [],
   "source": [
    "graphene.lattice.a1, graphene.lattice.a2, graphene.group_of_M.point"
   ]
  },
  {
   "cell_type": "code",
   "execution_count": null,
   "id": "4957d531-0bb4-4644-9600-9b628e3f329c",
   "metadata": {},
   "outputs": [],
   "source": [
    "graphene.subgroup_indices_in_full_group(graphene.site_symmetry_group)"
   ]
  },
  {
   "cell_type": "code",
   "execution_count": null,
   "id": "d72732c5-87e3-43aa-b9ab-ab8bcecb5b46",
   "metadata": {},
   "outputs": [],
   "source": [
    "{name: char for name, char in \n",
    " zip(\n",
    "     np.array(graphene.group.elements)[graphene.subgroup_indices_in_full_group(graphene.site_symmetry_group)],\n",
    "     np.array(character_of_representation(graphene.generate_site_orbital_representation('g2m')))[graphene.subgroup_indices_in_full_group(graphene.site_symmetry_group)]\n",
    " )\n",
    "}"
   ]
  },
  {
   "cell_type": "code",
   "execution_count": null,
   "id": "fa075db8-ef0e-4523-92fb-ebbb1266c319",
   "metadata": {},
   "outputs": [],
   "source": [
    "{name: char for name, char in \n",
    " zip(\n",
    "     np.array(graphene.group.elements)[graphene.subgroup_indices_in_full_group(graphene.group_of_K.group)],\n",
    "     character_of_representation(graphene.generate_band_representation('g2m', 'K'))\n",
    " )\n",
    "}"
   ]
  },
  {
   "cell_type": "code",
   "execution_count": null,
   "id": "e3d86331-79c9-47f7-a483-d3181e903d52",
   "metadata": {},
   "outputs": [],
   "source": [
    "graphene.subgroup_indices_in_full_group(graphene.site_symmetry_group)"
   ]
  },
  {
   "cell_type": "code",
   "execution_count": null,
   "id": "d6198fc1-f073-45fd-a863-2799cb95b020",
   "metadata": {},
   "outputs": [],
   "source": [
    "cm, em = graphene.group_to_subgroup_mapping(graphene.site_symmetry_group, \n",
    "                                   graphene.coset_reps_ssg, \n",
    "                                   from_subgroup=graphene.group_of_K.group)"
   ]
  },
  {
   "cell_type": "code",
   "execution_count": null,
   "id": "7367cbd2-6646-48f3-9099-95ea2a79ad2d",
   "metadata": {},
   "outputs": [],
   "source": [
    "mappings = [[(c_row, c_col, e0, e) for c_col, e, e0 in zip(cmi, emi, graphene.subgroup_indices_in_full_group(graphene.group_of_K.group))] for c_row, (cmi, emi) in enumerate(zip(cm ,em))]"
   ]
  },
  {
   "cell_type": "code",
   "execution_count": null,
   "id": "d28306bd-54f2-483b-bcd2-b4be6822b22a",
   "metadata": {},
   "outputs": [],
   "source": [
    "mappings_tuples = np.array(mappings).reshape(-1, np.array(mappings).shape[-1])"
   ]
  },
  {
   "cell_type": "code",
   "execution_count": null,
   "id": "6f7cac09-0ca3-4a0c-9ec8-eabe2c087ee0",
   "metadata": {},
   "outputs": [],
   "source": [
    "np.isin(mappings_tuples[:,3].flatten(), graphene.subgroup_indices_in_full_group(graphene.site_symmetry_group))"
   ]
  },
  {
   "cell_type": "code",
   "execution_count": null,
   "id": "c4182b0f-e599-4edb-bcc8-18ceab172f7f",
   "metadata": {},
   "outputs": [],
   "source": [
    "new_array = mappings_tuples.astype(object)\n",
    "\n",
    "# Replace columns 2 and 3 with lookup values\n",
    "new_array[:,2] = np.array(graphene.group.elements)[mappings_tuples[:,2]]\n",
    "new_array[:,3] = np.array(graphene.group.elements)[mappings_tuples[:,3]]"
   ]
  },
  {
   "cell_type": "code",
   "execution_count": null,
   "id": "f0a9039f-f1b8-471f-a1c8-2751cc243dc5",
   "metadata": {},
   "outputs": [],
   "source": [
    "mappings_tuples"
   ]
  },
  {
   "cell_type": "code",
   "execution_count": null,
   "id": "fe984d10-199e-4aa3-a4c7-87df6f8a62ee",
   "metadata": {},
   "outputs": [],
   "source": [
    "graphene.group_to_subgroup_mapping(graphene.site_symmetry_group, \n",
    "                                   graphene.coset_reps_ssg, \n",
    "                                   from_subgroup=graphene.group_of_K.group, extended_form=True)"
   ]
  },
  {
   "cell_type": "code",
   "execution_count": null,
   "id": "67f4ea0f-03e8-4949-b78e-b65881d29b6e",
   "metadata": {},
   "outputs": [],
   "source": [
    "np.array(graphene.group.elements)[mappings_tuples[:, 3]]"
   ]
  },
  {
   "cell_type": "code",
   "execution_count": null,
   "id": "9c8bebbe-08f6-4bd3-a9be-82eeedc9694a",
   "metadata": {},
   "outputs": [],
   "source": [
    "cm, em"
   ]
  },
  {
   "cell_type": "code",
   "execution_count": null,
   "id": "419101e2-6507-4b8f-9ed2-5dba88fe1340",
   "metadata": {},
   "outputs": [],
   "source": [
    "[(x1,x2) for (x1, x2)in zip(list(np.array(graphene.group.elements)[graphene.subgroup_indices_in_full_group(graphene.group_of_K.group)]), graphene.group_of_K.group.elements)]"
   ]
  },
  {
   "cell_type": "code",
   "execution_count": null,
   "id": "17365c2e-0e7e-4cf3-b513-8d1ec0f3df0c",
   "metadata": {},
   "outputs": [],
   "source": [
    "[ 0,  1,  2, 22, 23, 21, 18, 19, 20,  5,  3,  4], graphene.subgroup_indices_in_full_group(graphene.group_of_K.group)"
   ]
  },
  {
   "cell_type": "code",
   "execution_count": null,
   "id": "0192f725-d0d7-4d9b-8bf3-29f7e727d8d9",
   "metadata": {},
   "outputs": [],
   "source": [
    "graphene.group_of_K.group.elements"
   ]
  },
  {
   "cell_type": "code",
   "execution_count": null,
   "id": "57c2502f-5f26-4a2b-a527-2ed8f721aace",
   "metadata": {},
   "outputs": [],
   "source": [
    "def calculate_phase(self, group_of_k, R, t_bra_idx):\n",
    "    gR = np.array(self.group.xyz_representation())[self.subgroup_indices_in_full_group(group_of_k.group)][\n",
    "             R] * group_of_k.point - group_of_k.point\n",
    "    tau_bra = self.tau_vectors[t_bra_idx]\n",
    "    phase = sp.exp(sp.I * (gR.dot(tau_bra)))\n",
    "\n",
    "    elem = self.subgroup_to_elements_mapping_in_full_group(group_of_k.group)[R]\n",
    "    \n",
    "    return elem, gR"
   ]
  },
  {
   "cell_type": "code",
   "execution_count": null,
   "id": "0cd85a8c-f4fc-4640-acf3-b1d4e40b0c33",
   "metadata": {},
   "outputs": [],
   "source": [
    "graphene.tau_vectors"
   ]
  },
  {
   "cell_type": "code",
   "execution_count": null,
   "id": "34bbc4f0-210a-4ce2-a716-35e13881c45e",
   "metadata": {},
   "outputs": [],
   "source": [
    "[[calculate_phase(graphene, graphene.group_of_M, R, t_bra) for R in range(len(graphene.group_of_M.group.elements))] for t_bra in range(len(graphene.tau_vectors))]"
   ]
  },
  {
   "cell_type": "code",
   "execution_count": null,
   "id": "e4ce8ede-40b6-4084-b746-f63abf77ca98",
   "metadata": {},
   "outputs": [],
   "source": [
    "graphene.subgroup_to_elements_mapping_in_full_group()"
   ]
  },
  {
   "cell_type": "code",
   "execution_count": null,
   "id": "97238f5e-f524-464e-8f35-255a686af3fd",
   "metadata": {},
   "outputs": [],
   "source": [
    "graphene_1 = GrapheneHamiltonian(with_spin=False)\n",
    "graphene_1.run_setup(wyckoff_position='2b')"
   ]
  },
  {
   "cell_type": "code",
   "execution_count": null,
   "id": "f6510867-33d9-4549-9525-132ae202e4b7",
   "metadata": {},
   "outputs": [],
   "source": [
    "{name: R for name, R in zip(graphene_1.group_of_M.group.elements, graphene_1.group_of_M.group.xyz_representation())}"
   ]
  },
  {
   "cell_type": "code",
   "execution_count": null,
   "id": "e765d286-cd17-428a-9123-1a7de860df07",
   "metadata": {},
   "outputs": [],
   "source": [
    "{name: R for name, R in zip(\n",
    "    graphene_1.subgroup_to_elements_mapping_in_full_group(graphene_1.group_of_M.group), \n",
    "    np.array(graphene_1.group.xyz_representation())[graphene_1.subgroup_indices_in_full_group(graphene_1.group_of_M.group)]\n",
    ")\n",
    "}"
   ]
  },
  {
   "cell_type": "code",
   "execution_count": null,
   "id": "158fafed-8ae1-48c8-8ba3-c1e54d274590",
   "metadata": {},
   "outputs": [],
   "source": [
    "np.array(graphene.group.xyz_representation())[graphene.subgroup_indices_in_full_group(graphene.group_of_M.group)] == graphene.group_of_M.group.xyz_representation()"
   ]
  },
  {
   "cell_type": "code",
   "execution_count": null,
   "id": "290cd0c9-e7c7-4691-a981-c66ad78d6fba",
   "metadata": {},
   "outputs": [],
   "source": [
    "{name: R for name, R in zip(graphene_1.group_of_M.group.elements, graphene_1.group_of_M.group.xyz_representation())}"
   ]
  },
  {
   "cell_type": "code",
   "execution_count": null,
   "id": "70de6c43-7586-4f8b-a14e-a76edc81317d",
   "metadata": {},
   "outputs": [],
   "source": [
    "[[calculate_phase(R, t_bra) for R in range(len(graphene.group_of_K.group.elements))] for t_bra in range(len(graphene.tau_vectors))]"
   ]
  },
  {
   "cell_type": "code",
   "execution_count": null,
   "id": "d4445b06-5635-4f75-993f-ea41b480379f",
   "metadata": {},
   "outputs": [],
   "source": [
    "(graphene.group.xyz_representation()[1] * graphene.group_of_K.k_point - graphene.group_of_K.k_point).dot(graphene.tau_vectors[0])"
   ]
  },
  {
   "cell_type": "code",
   "execution_count": null,
   "id": "78b8702f-6a01-4b0b-8ba6-fbea1e490bd5",
   "metadata": {},
   "outputs": [],
   "source": [
    "irrep_decomposition(graphene.generate_band_representation('g2m', 'M'), graphene.group_of_M.group_of_k.irreducible_representations)"
   ]
  },
  {
   "cell_type": "code",
   "execution_count": null,
   "id": "cf447ee2-398a-4918-bc82-35b5e8e72115",
   "metadata": {},
   "outputs": [],
   "source": [
    "calculate_phase(0, 0) == sp.Rational(-3,1) * graphene.lattice.b1"
   ]
  },
  {
   "cell_type": "code",
   "execution_count": null,
   "id": "b8c34bb9-3c22-4171-8d09-f18186ca5c1c",
   "metadata": {},
   "outputs": [],
   "source": [
    "calculate_phase(2, 0)"
   ]
  },
  {
   "cell_type": "code",
   "execution_count": null,
   "id": "8f228e73-961a-446e-844f-37310637c99b",
   "metadata": {},
   "outputs": [],
   "source": [
    "graphene.lattice.a1, graphene.lattice.a2"
   ]
  },
  {
   "cell_type": "code",
   "execution_count": null,
   "id": "c7d245bc-73b6-483f-b8ef-b39809ad20fb",
   "metadata": {},
   "outputs": [],
   "source": [
    "graphene.tau_vectors"
   ]
  },
  {
   "cell_type": "code",
   "execution_count": null,
   "id": "c91584e8-8c01-4042-a2d7-1dafa09c6070",
   "metadata": {},
   "outputs": [],
   "source": [
    "graphene.group_of_M.point"
   ]
  },
  {
   "cell_type": "code",
   "execution_count": null,
   "id": "82c2c439-5f2b-476a-8c68-9322a86c54ad",
   "metadata": {},
   "outputs": [],
   "source": [
    "graphene.lattice.get_reciprocal_vector([sp.Rational(1,3),sp.Rational(1,3),0])"
   ]
  },
  {
   "cell_type": "code",
   "execution_count": null,
   "id": "65e943b0-e18f-4629-a4de-609f1f754f0a",
   "metadata": {},
   "outputs": [],
   "source": [
    "graphene.generate_band_representation('g2m', 'K')"
   ]
  },
  {
   "cell_type": "code",
   "execution_count": null,
   "id": "7fc7a8d3-8760-4b7e-bb85-d5f1f62252d0",
   "metadata": {},
   "outputs": [],
   "source": [
    "graphene.group_to_subgroup_mapping(\n",
    "    graphene.site_symmetry_group, \n",
    "    graphene.coset_reps_ssg, \n",
    "    from_subgroup_indices=graphene.subgroup_indices_in_full_group(graphene.group_of_K.group_of_k)\n",
    ")\n"
   ]
  },
  {
   "cell_type": "code",
   "execution_count": null,
   "id": "c215e695-ab8a-41e5-8932-96d5679b8a0d",
   "metadata": {},
   "outputs": [],
   "source": [
    "graphene.subgroup_indices_in_full_group(graphene.group_of_K.group_of_k)"
   ]
  },
  {
   "cell_type": "code",
   "execution_count": null,
   "id": "5b91f297-d018-428e-b942-238d1eb34158",
   "metadata": {},
   "outputs": [],
   "source": [
    "for ir_name, ir in graphene.group.irreducible_representations.items():\n",
    "    if np.all(np.array(ir)[graphene.subgroup_indices_in_full_group(graphene.site_symmetry_group)] == graphene.site_symmetry_group.irreducible_representations['g4']):\n",
    "        print(ir_name)"
   ]
  },
  {
   "cell_type": "code",
   "execution_count": null,
   "id": "f742ab3f-904d-4168-9b9e-7e3626df0d9c",
   "metadata": {},
   "outputs": [],
   "source": [
    "graphene.group_to_subgroup_mapping(graphene.site_symmetry_group, graphene.coset_reps_ssg)[1]"
   ]
  },
  {
   "cell_type": "code",
   "execution_count": null,
   "id": "51dd0a36-9b96-4606-8254-4564dce8698c",
   "metadata": {},
   "outputs": [],
   "source": [
    "ismember(\n",
    "    graphene.group_to_subgroup_mapping(graphene.group_of_K.group_of_k, graphene.coset_reps_ssg)[1], \n",
    "    graphene.group_to_subgroup_mapping(graphene.site_symmetry_group, graphene.coset_reps_ssg)[1]\n",
    ")"
   ]
  },
  {
   "cell_type": "code",
   "execution_count": null,
   "id": "76704732-026f-406e-8ec3-eb9123b4aadb",
   "metadata": {},
   "outputs": [],
   "source": [
    "graphene.group_to_subgroup_mapping(graphene.site_symmetry_group, graphene.coset_reps_ssg)[1][:,graphene.subgroup_indices_in_full_group(graphene.group_of_K.group_of_k)]"
   ]
  },
  {
   "cell_type": "code",
   "execution_count": null,
   "id": "5307b16b-be04-40ac-a1cc-28cb83c129a0",
   "metadata": {},
   "outputs": [],
   "source": [
    "graphene.subgroup_indices_in_full_group(graphene.group_of_K.group_of_k)"
   ]
  },
  {
   "cell_type": "code",
   "execution_count": null,
   "id": "8f30ab4f-831c-47ad-a2d9-b1f4efebd346",
   "metadata": {},
   "outputs": [],
   "source": []
  },
  {
   "cell_type": "code",
   "execution_count": null,
   "id": "cd783ec9-85a9-42b2-8add-c7694fc7cc3b",
   "metadata": {},
   "outputs": [],
   "source": [
    "graphene.group_to_subgroup_mapping(\n",
    "    graphene.site_symmetry_group,\n",
    "    graphene.coset_reps_ssg,\n",
    "    from_subgroup_indices=graphene.subgroup_indices_in_full_group(graphene.group_of_K.group_of_k)\n",
    ")"
   ]
  },
  {
   "cell_type": "code",
   "execution_count": null,
   "id": "fbb28147-35d1-4fa5-b492-912b3a2db886",
   "metadata": {},
   "outputs": [],
   "source": [
    "[graphene.group.elements[i] for i in graphene.subgroup_indices_in_full_group(graphene.group_of_K.group_of_k)]"
   ]
  },
  {
   "cell_type": "code",
   "execution_count": null,
   "id": "3bd30239-015c-449e-92d2-9bdffe6a4704",
   "metadata": {},
   "outputs": [],
   "source": [
    "[graphene.group.elements[i] for i in [ 0,  1,  2, 21, 22, 23, 18, 19, 20,  3,  4,  5]]"
   ]
  },
  {
   "cell_type": "code",
   "execution_count": null,
   "id": "c3322407-2461-4a5b-afd3-460158f1a8a8",
   "metadata": {},
   "outputs": [],
   "source": [
    "{name: char for name, char in \n",
    " zip(\n",
    "     graphene.subgroup_to_elements_mapping_in_full_group(graphene.group_of_K.group_of_k),\n",
    "     character_of_representation(graphene.generate_subduced_representation_group_of_k('g2m', 'K'))\n",
    " )\n",
    "}"
   ]
  },
  {
   "cell_type": "code",
   "execution_count": null,
   "id": "59381ed1-c743-43a5-ab11-19ae8d74f6d1",
   "metadata": {},
   "outputs": [],
   "source": [
    "graphene.generate_subduced_representation_group_of_k('g2m', 'K')"
   ]
  },
  {
   "cell_type": "code",
   "execution_count": null,
   "id": "7f329df8-1004-4189-9690-04303c776117",
   "metadata": {},
   "outputs": [],
   "source": [
    "[graphene.group.elements[i] for i in graphene.subgroup_indices_in_full_group(graphene.group_of_K.group_of_k)]"
   ]
  },
  {
   "cell_type": "code",
   "execution_count": null,
   "id": "3cba209a-bbfb-4366-9439-2944266eab9b",
   "metadata": {},
   "outputs": [],
   "source": [
    "graphene.subgroup_to_elements_mapping_in_full_group(graphene.group_of_K.group_of_k)"
   ]
  },
  {
   "cell_type": "code",
   "execution_count": null,
   "id": "d22b2753-a015-4fb2-8645-9313a84edc87",
   "metadata": {},
   "outputs": [],
   "source": [
    "graphene.subgroup_to_faithful_rep_mapping_in_full_group(graphene.group_of_K.group_of_k)"
   ]
  },
  {
   "cell_type": "code",
   "execution_count": null,
   "id": "2a3818a8-98e3-46fc-b89e-8fef61fbe35e",
   "metadata": {},
   "outputs": [],
   "source": [
    "{name: char for name, char in \n",
    " zip(\n",
    "     graphene.subgroup_to_elements_mapping_in_full_group(graphene.group_of_K.group_of_k),\n",
    "     character_of_representation(graphene.generate_site_orbital_representation('g2m'))\n",
    " )\n",
    "}"
   ]
  },
  {
   "cell_type": "code",
   "execution_count": null,
   "id": "3a10668a-705b-42f4-8a01-4ec4d4b718bb",
   "metadata": {},
   "outputs": [],
   "source": [
    "graphene.group_to_subgroup_mapping(\n",
    "    graphene.site_symmetry_group,\n",
    "    graphene.coset_reps_ssg,\n",
    "from_subgroup_indices=graphene.subgroup_indices_in_full_group(graphene.group_of_K.group_of_k)\n",
    ")"
   ]
  },
  {
   "cell_type": "code",
   "execution_count": null,
   "id": "3b1d0655-f6c5-4b1b-aa65-ef74b842c844",
   "metadata": {},
   "outputs": [],
   "source": [
    "graphene.subgroup_indices_in_full_group(graphene.group_of_K.group_of_k)"
   ]
  },
  {
   "cell_type": "code",
   "execution_count": null,
   "id": "49b83b4e-958e-4696-9539-765f0d7c1ae2",
   "metadata": {},
   "outputs": [],
   "source": [
    "[i[graphene.subgroup_indices_in_full_group(graphene.group_of_K.group_of_k)] for i in \n",
    "    graphene.group_to_subgroup_mapping(\n",
    "    graphene.site_symmetry_group,\n",
    "    graphene.coset_reps_ssg\n",
    ")[1]\n",
    "]"
   ]
  },
  {
   "cell_type": "code",
   "execution_count": null,
   "id": "75b45318-51a1-4dc6-9ca3-9b0d5fced885",
   "metadata": {},
   "outputs": [],
   "source": []
  }
 ],
 "metadata": {
  "kernelspec": {
   "display_name": "method_of_invariant",
   "language": "python",
   "name": "method_of_invariant"
  },
  "language_info": {
   "codemirror_mode": {
    "name": "ipython",
    "version": 3
   },
   "file_extension": ".py",
   "mimetype": "text/x-python",
   "name": "python",
   "nbconvert_exporter": "python",
   "pygments_lexer": "ipython3",
   "version": "3.11.10"
  }
 },
 "nbformat": 4,
 "nbformat_minor": 5
}
