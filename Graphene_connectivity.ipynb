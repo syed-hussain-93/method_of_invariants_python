{
 "cells": [
  {
   "cell_type": "code",
   "execution_count": 1,
   "id": "797e824e-7d31-4e27-9609-a8ac6d21dac5",
   "metadata": {},
   "outputs": [],
   "source": [
    "from representation_matrices_explicit import GroupD6h, GroupD6D3hC6v, BaseGroup\n",
    "from graphene.graphene import GrapheneHamiltonian, CosetReps\n",
    "import numpy as np\n",
    "import sympy as sp\n",
    "\n",
    "%load_ext autoreload\n",
    "%autoreload 2\n"
   ]
  },
  {
   "cell_type": "code",
   "execution_count": 2,
   "id": "db48cbff-c832-4ee4-b2e3-083f162e3d4d",
   "metadata": {},
   "outputs": [],
   "source": [
    "graphene_con = GrapheneHamiltonian(with_spin=False)"
   ]
  },
  {
   "cell_type": "code",
   "execution_count": 3,
   "id": "f188e940-bd8c-4051-ad17-0c5f9bbfb95c",
   "metadata": {},
   "outputs": [],
   "source": [
    "group_of_K = GroupD6D3hC6v(name='d3h', edge_x_orientation=True, is_double_group=graphene_con.with_spin)"
   ]
  },
  {
   "cell_type": "code",
   "execution_count": null,
   "id": "0794b792-c578-40df-bbe7-0a4cac8b7e16",
   "metadata": {},
   "outputs": [],
   "source": [
    "graphene_con.full_group_to_subgroup_mapping()"
   ]
  }
 ],
 "metadata": {
  "kernelspec": {
   "display_name": "method_of_invariant",
   "language": "python",
   "name": "method_of_invariant"
  },
  "language_info": {
   "codemirror_mode": {
    "name": "ipython",
    "version": 3
   },
   "file_extension": ".py",
   "mimetype": "text/x-python",
   "name": "python",
   "nbconvert_exporter": "python",
   "pygments_lexer": "ipython3",
   "version": "3.11.10"
  }
 },
 "nbformat": 4,
 "nbformat_minor": 5
}
