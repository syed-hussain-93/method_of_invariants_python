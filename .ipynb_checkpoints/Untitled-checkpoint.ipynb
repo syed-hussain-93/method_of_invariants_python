{
 "cells": [
  {
   "cell_type": "code",
   "execution_count": 2,
   "id": "dcc7edd5-1f4c-44ff-9bfe-edc8790c4b0e",
   "metadata": {},
   "outputs": [],
   "source": [
    "from representation_matrices_explicit import GroupD6h, GroupD6D3hC6v\n",
    "from graphene.graphene import GrapheneHamiltonian\n",
    "import numpy as np\n",
    "import sympy as sp\n",
    "\n",
    "%load_ext autoreload\n",
    "%autoreload 2\n"
   ]
  },
  {
   "cell_type": "code",
   "execution_count": null,
   "id": "8b6aff9e-a364-4658-a58b-4dd61ca0fbbb",
   "metadata": {},
   "outputs": [],
   "source": [
    "sp.init_printing()"
   ]
  },
  {
   "cell_type": "code",
   "execution_count": 3,
   "id": "28aef28e-aba7-4795-b226-6e3a7470c868",
   "metadata": {},
   "outputs": [],
   "source": [
    "d6h = GroupD6h(is_double_group=True)"
   ]
  },
  {
   "cell_type": "code",
   "execution_count": null,
   "id": "b9c5e088-bd75-4fc6-adfd-d4b09df08d36",
   "metadata": {},
   "outputs": [],
   "source": [
    "d6h.faithful_representation()[:4]"
   ]
  },
  {
   "cell_type": "code",
   "execution_count": 102,
   "id": "186af621-ea71-42f5-8f6a-ba5be0c06848",
   "metadata": {},
   "outputs": [],
   "source": [
    "graphene = GrapheneHamiltonian(with_spin=True)\n",
    "graphene.run_setup(wyckoff_position='2b')"
   ]
  },
  {
   "cell_type": "code",
   "execution_count": null,
   "id": "63d9b9b2-fdaa-4588-993d-82b9ced45ed2",
   "metadata": {},
   "outputs": [],
   "source": [
    "p = [2,0,1,3]\n",
    "P = sp.zeros(len(p))\n",
    "for i, j in enumerate(p):\n",
    "    P[j, i] = 1"
   ]
  },
  {
   "cell_type": "code",
   "execution_count": null,
   "id": "fa48ceb0-6edc-46f8-8ed7-b9a93548841d",
   "metadata": {},
   "outputs": [],
   "source": [
    "P"
   ]
  },
  {
   "cell_type": "code",
   "execution_count": null,
   "id": "1f73d3f5-8df0-4659-b600-5b9edc00d61a",
   "metadata": {},
   "outputs": [],
   "source": [
    "def site_orbital_representation(self):\n",
    "    if self.site_symmetry_group.name.lower() == 'd3h':\n",
    "        coset_reps_syms = ['E', 'I']\n",
    "        coset_rep_idx = [i for i, x in enumerate(self.group.elements) if x in coset_reps_syms]\n",
    "        coset_reps = [self.group.faithful_representation()[i] for i in coset_rep_idx]\n",
    "        ssg = {i: x for i, x in enumerate(self.site_symmetry_group.faithful_representation()) if\n",
    "               x in self.group.faithful_representation()}\n",
    "    else:\n",
    "        raise ValueError('set site symmetry group')\n",
    "    \n",
    "\n",
    "    # mapping_R_to_Rssg = []\n",
    "    # for R in self.group.faithful_representation():\n",
    "    #     for cr_idx, crx in enumerate(coset_reps):\n",
    "    #         for cr_idy, cry in enumerate(coset_reps):\n",
    "    #             R_ssg = (crx.inv() * R * cry)\n",
    "    #             R_ssg_idx = [i for i, x in enumerate(self.group.faithful_representation()) if\n",
    "    #                          R_ssg == x]\n",
    "    #             mapping_R_to_Rssg.append({(cr_idx, cr_idy): R_ssg_idx})\n",
    "\n",
    "    # for cr in coset_reps:\n",
    "    #     # R_row*Ft = F*R_col\n",
    "    #     i_cr = self.group.elements.find(cr)\n",
    "    #     left_coset_ssg = [self.group.faithful_representation()[i_cr] * g for g in\n",
    "    #                       self.site_symmetry_group.faithful_representation()]\n",
    "    #     right_coset_F = [g * self.group.faithful_representation()[i_cr] for g in\n",
    "    #                      self.group.faithful_representation()]\n",
    "    #\n",
    "    #     st = set(right_coset_F)\n",
    "    #     print([i for i, e in enumerate(right_coset_F) if e in st])\n",
    "    return ssg"
   ]
  },
  {
   "cell_type": "code",
   "execution_count": null,
   "id": "906f9f6c-8fd9-45da-8e24-8bdc9cd12937",
   "metadata": {},
   "outputs": [],
   "source": [
    "self = graphene\n",
    "coset_reps_syms = ['E', 'I']\n",
    "coset_reps_idx = [self.group.elements.index(x) for x in coset_reps_syms]\n",
    "coset_reps = np.array(self.group.faithful_representation())[coset_reps_idx]\n",
    "ssg = {i: x for i, x in enumerate(self.site_symmetry_group.faithful_representation()) if x in self.group.faithful_representation()}"
   ]
  },
  {
   "cell_type": "code",
   "execution_count": null,
   "id": "9b7a8349-a63e-4735-b540-0bf8566f8580",
   "metadata": {},
   "outputs": [],
   "source": [
    "# % R is element of co-group of k \n",
    "# % Rt is element of site symmetry group\n",
    "# % R_alpha, R_alphap = coset reps \n",
    "# % alpha  = row\n",
    "# % alphap = col\n",
    "# %\n",
    "# % Relationship between R and Rt\n",
    "# % R*R_alpha = R_alphap*Rt\n",
    "# % \n",
    "# % 1. Find R_alphat*Rt -> left_coset_Gt_2c \n",
    "# % 2. Find R*R_alpha   -> Gk_k_c2_2c (k=K,G,M)\n",
    "# % 3. 1.=2. => find 2. in 1. \n",
    "# %             to find which alpha gives alpha_p -> rr_k (k=K,G,M)"
   ]
  },
  {
   "cell_type": "code",
   "execution_count": null,
   "id": "94c51bb7-c39f-44b3-987d-35bff317719b",
   "metadata": {},
   "outputs": [],
   "source": [
    "# for i = 1:n_t\n",
    "#     c_i = coset_reps(:,:,i);\n",
    "#     for j = 1:d_k\n",
    "#         el  = Gk_k(j);\n",
    "#         if right\n",
    "#             c_j = simplify(expand(ff_F(:,:,el)*c_i));\n",
    "#         else\n",
    "#             c_j = simplify(expand(c_i * ff_F(:,:,el)));\n",
    "#         end\n",
    "#         loc = map_elem_to_group(c_j,ff_F);\n",
    "#         coset_x_Gk(i,j) = loc;\n",
    "#     end\n",
    "# end"
   ]
  },
  {
   "cell_type": "code",
   "execution_count": 141,
   "id": "2fb56363-6946-4c6e-8a26-5864a5d47dbc",
   "metadata": {},
   "outputs": [],
   "source": [
    "def ismember(a, b):\n",
    "    \"\"\"\n",
    "    Replicates MATLAB's ismember for 2D arrays using NumPy.\n",
    "    \n",
    "    Parameters\n",
    "    ----------\n",
    "    a : np.ndarray\n",
    "        Array of elements to test.\n",
    "    b : np.ndarray\n",
    "        Array in which to look for elements of a.\n",
    "    \n",
    "    Returns\n",
    "    -------\n",
    "    rows : np.ndarray\n",
    "        Row indices in `b` where elements of `a` are found.\n",
    "    cols : np.ndarray\n",
    "        Column indices in `b` where elements of `a` are found.\n",
    "    mask : np.ndarray\n",
    "        Boolean array, same shape as `a`, True if element is in `b`.\n",
    "    \"\"\"\n",
    "    a = np.asarray(a)\n",
    "    b = np.asarray(b)\n",
    "\n",
    "    # flatten b for search\n",
    "    b_flat = b.ravel()\n",
    "\n",
    "    # searchsorted trick (works like MATLAB ismember)\n",
    "    sorter = np.argsort(b_flat)\n",
    "    idx = sorter[np.searchsorted(b_flat, a.ravel(), sorter=sorter)]\n",
    "\n",
    "    # check membership\n",
    "    mask = b_flat[idx] == a.ravel()\n",
    "\n",
    "    # get row and col indices\n",
    "    rows, cols = np.unravel_index(idx, b.shape)\n",
    "\n",
    "    # mask non-members\n",
    "    rows = np.where(mask, rows, -1)\n",
    "    cols = np.where(mask, cols, -1)\n",
    "\n",
    "    return rows.reshape(a.shape), cols.reshape(a.shape)\n",
    "\n",
    "\n",
    "\n",
    "def full_group_to_subgroup_mapping(full_group: GroupD6h, sub_group: GroupD6D3hC6v, coset_reps_syms: list[str]):\n",
    "    \n",
    "    full_group_faithful_rep = full_group.faithful_representation()\n",
    "    sub_group_faithful_rep = sub_group.faithful_representation()\n",
    "\n",
    "    sub_group_index_in_full_group = [full_group_faithful_rep.index(x) for x in sub_group_faithful_rep]\n",
    "    sub_group_in_full_group = [full_group_faithful_rep[i] for i in sub_group_index_in_full_group]\n",
    "\n",
    "    coset_reps_idx = [full_group.elements.index(x) for x in coset_reps_syms]\n",
    "    coset_reps = [full_group_faithful_rep[i] for i in coset_reps_idx]\n",
    "\n",
    "    left_coset_sub_group = [[full_group_faithful_rep.index(R_row * R_sg) for R_sg in sub_group_faithful_rep] for R_row in coset_reps]\n",
    "    right_coset_full_group = [[full_group_faithful_rep.index(R * R_col) for R in full_group_faithful_rep] for R_col in coset_reps]\n",
    "\n",
    "    coset_pairs_mapping, element_mapping = ismember(right_coset_full_group, left_coset_sub_group)\n",
    "\n",
    "    return coset_pairs_mapping, np.array(sub_group_index_in_full_group)[element_mapping]\n",
    "\n",
    "# --- helpers to get/set blocks ---\n",
    "def get_block(M, i, j, block_size):\n",
    "    a = block_size\n",
    "    return M[i*a:(i+1)*a, j*a:(j+1)*a]\n",
    "\n",
    "def set_block(M, i, j, block, block_size):\n",
    "    a = block_size\n",
    "    if block.shape != (a, a):\n",
    "        raise ValueError(f\"block must be {a}x{a}, got {block.shape}\")\n",
    "    M[i*a:(i+1)*a, j*a:(j+1)*a] = block\n",
    "\n",
    "def site_orbital_representation(self, ssg_coset_mapping: np.ndarray, ssg_element_mapping: np.ndarray, orbital_irrep):\n",
    "\n",
    "    d_G = len(self.group.faithful_representation())\n",
    "    m_tau = ssg_coset_mapping.shape[0]\n",
    "    d_mu = orbital_irrep[0].shape[0] if isinstance(orbital_irrep[0], sp.MatrixBase) else 1\n",
    "\n",
    "    d_H = m_tau * d_mu \n",
    "    \n",
    "    site_orbital_rep = []\n",
    "    for R in range(d_G):\n",
    "        H = sp.MutableDenseMatrix.zeros(m_tau * d_mu, m_tau * d_mu)\n",
    "        for t_bra in range(m_tau):\n",
    "    \n",
    "            t_ket = ssg_coset_mapping[t_bra, R]\n",
    "            element_in_ssg = ssg_element_mapping[t_bra, R]\n",
    "            orbital_rep = orbital_irrep[element_in_ssg]\n",
    "            orbital_rep = orbital_rep if isinstance(orbital_rep, sp.MatrixBase) else sp.Matrix([orbital_rep])\n",
    "\n",
    "            set_block(H, t_bra, t_ket, orbital_rep, orbital_rep.shape[0])\n",
    "\n",
    "        site_orbital_rep.append(H)\n",
    "\n",
    "    return site_orbital_rep\n",
    "\n",
    "\n",
    "# def generate_shell_vectors(self: GrapheneHamiltonian, lattice_range=(-1, 1, 1)):\n",
    "#     \"\"\"\n",
    "#     Generate shell vectors sorted by ascending |rho|.\n",
    "\n",
    "#     Returns\n",
    "#     -------\n",
    "#     shell_vectors : dict\n",
    "#         Keys: (cr_bra, cr_ket)\n",
    "#         Values: OrderedDict with keys = (n1,n2,n3),\n",
    "#                 values = rho (sympy.Matrix),\n",
    "#                 insertion order = ascending |rho|.\n",
    "#     \"\"\"\n",
    "#     shell_vectors = {}\n",
    "\n",
    "#     for cr_bra, tau_bra in self.tau_vectors.items():\n",
    "#         for cr_ket, tau_ket in self.tau_vectors.items():\n",
    "#             entries = []\n",
    "#             for n1 in range(*lattice_range):\n",
    "#                 for n2 in range(*lattice_range):\n",
    "#                     for n3 in range(*lattice_range):\n",
    "#                         rho = tau_ket - tau_bra + self.lattice.get_lattice_vector(n=[n1, n2, n3])\n",
    "#                         norm2 = (rho.T * rho)[0]   # squared magnitude\n",
    "#                         entries.append(((n1, n2, n3), rho, norm2))\n",
    "\n",
    "#             # sort by norm^2, then lexicographically by vector for stability\n",
    "#             entries.sort(key=lambda item: (sp.nsimplify(item[2]), tuple(item[1])))\n",
    "\n",
    "#             # rebuild as OrderedDict to keep the sorted order\n",
    "#             tau_braket = OrderedDict(((n, rho) for n, rho, _ in entries))\n",
    "#             shell_vectors[(cr_bra, cr_ket)] = tau_braket\n",
    "\n",
    "#     return shell_vectors\n",
    "    \n",
    "    \n",
    "\n",
    "    \n",
    "def generate_shell_vectors(self, shell_number: int, t_bra: int, t_ket:int):\n",
    "    \"\"\"\n",
    "    t_bra/t_ket defines between what two wyckoff positions we want the shell vector for\n",
    "\n",
    "    pass as integer which corresponds to the coset rep wrt ssg \n",
    "    \"\"\"\n",
    "\n",
    "    xyz_full_group = self.group.xyz_representation()\n",
    "\n",
    "    def unique_matrices(mats):\n",
    "        # convert each Matrix to a tuple of its entries\n",
    "        seen = set()\n",
    "        uniq = []\n",
    "        for m in mats:\n",
    "            key = tuple(sp.simplify(x) for x in m)  # ensures (x, y, z) tuple\n",
    "            if key not in seen:\n",
    "                seen.add(key)\n",
    "                uniq.append(m)\n",
    "        return uniq\n",
    "    \n",
    "    if shell_number == 0:\n",
    "        shell_n = [0, 0, 0]\n",
    "        tau_ket_loc = self.tau_vectors[t_ket]\n",
    "        tau_bra_loc = self.tau_vectors[t_ket]\n",
    "    \n",
    "    elif shell_number == 1:\n",
    "        shell_n = [0, 0, 0]\n",
    "        tau_ket_loc = self.tau_vectors[t_ket]\n",
    "        tau_bra_loc = self.tau_vectors[t_bra]\n",
    "\n",
    "    elif shell_number == 2:\n",
    "        shell_n = [1, 0, 0]\n",
    "        tau_ket_loc = self.tau_vectors[t_ket]\n",
    "        tau_bra_loc = self.tau_vectors[t_ket]\n",
    "    else:\n",
    "        raise NotImplementedError('shell number not implemented')\n",
    "    \n",
    "    rho = tau_ket_loc - tau_bra_loc + self.lattice.get_lattice_vector(n=shell_n)\n",
    "\n",
    "    R_on_rho = [R_xyz * rho for R_xyz in xyz_full_group]\n",
    "    shell_vectors = unique_matrices(R_on_rho)\n",
    "    \n",
    "\n",
    "    return shell_vectors\n",
    "\n",
    "def shell_representation(self, shell_number: int, t_bra: int, t_ket: int):\n",
    "    shell_vectors = generate_shell_vectors(self, shell_number, t_bra=t_bra, t_ket=t_ket)\n",
    "    xyz_full_group = self.group.xyz_representation()\n",
    "\n",
    "    shell_vectors = generate_shell_vectors(self, shell_number, t_bra, t_ket)\n",
    "    rho_1 = shell_vectors[0]\n",
    "    R_on_rho = [R_xyz * rho_1 for R_xyz in xyz_full_group]\n",
    "    permutations = [shell_vectors.index(rho) for rho in R_on_rho]\n",
    "    print(xyz_full_group[0] * rho_1)\n",
    "    print(shell_vectors)\n",
    "\n",
    "    \n",
    "    \n",
    "    return permutations\n",
    "    \n",
    "\n",
    "    \n",
    "\n",
    "    \n",
    "    \n",
    "\n",
    "    "
   ]
  },
  {
   "cell_type": "code",
   "execution_count": null,
   "id": "d5e836a7-1649-4e82-85e0-1266bb922eb2",
   "metadata": {},
   "outputs": [],
   "source": []
  },
  {
   "cell_type": "code",
   "execution_count": 37,
   "id": "18630062-37ed-4319-8482-1f63c7e52932",
   "metadata": {},
   "outputs": [],
   "source": [
    "coset_pairs, elem_map = full_group_to_subgroup_mapping(graphene.group, graphene.site_symmetry_group, ['E', 'I'])"
   ]
  },
  {
   "cell_type": "code",
   "execution_count": null,
   "id": "7de47312-6d5d-4a2a-bed6-77824a73ac9a",
   "metadata": {},
   "outputs": [],
   "source": []
  },
  {
   "cell_type": "code",
   "execution_count": null,
   "id": "89eaa6c9-1bc3-473a-96f6-d761a1425532",
   "metadata": {},
   "outputs": [],
   "source": []
  },
  {
   "cell_type": "code",
   "execution_count": 108,
   "id": "23bec4e6-7998-430c-9204-08b079f346f9",
   "metadata": {},
   "outputs": [
    {
     "data": {
      "text/latex": [
       "$\\displaystyle a$"
      ],
      "text/plain": [
       "a"
      ]
     },
     "execution_count": 108,
     "metadata": {},
     "output_type": "execute_result"
    }
   ],
   "source": [
    "graphene.lattice.a"
   ]
  },
  {
   "cell_type": "code",
   "execution_count": null,
   "id": "11c5b9b6-4fc5-445f-ab06-7011f449cc04",
   "metadata": {},
   "outputs": [],
   "source": []
  },
  {
   "cell_type": "code",
   "execution_count": null,
   "id": "b18af2b0-c2bb-4a86-87bd-252e5dd5296c",
   "metadata": {},
   "outputs": [],
   "source": []
  },
  {
   "cell_type": "code",
   "execution_count": null,
   "id": "65933f62-047a-4591-a32e-a74555e7c9ac",
   "metadata": {},
   "outputs": [],
   "source": []
  },
  {
   "cell_type": "code",
   "execution_count": 39,
   "id": "4d400dcc-e5cb-4974-b7c2-da860c8f6ddb",
   "metadata": {},
   "outputs": [
    {
     "data": {
      "text/plain": [
       "array([[ 0,  1,  2,  3,  4,  5, 30, 31, 32, 33, 34, 35, 12, 13, 14, 15,\n",
       "        16, 17, 42, 43, 44, 45, 46, 47,  0,  1,  2,  3,  4,  5, 30, 31,\n",
       "        32, 33, 34, 35, 12, 13, 14, 15, 16, 17, 42, 43, 44, 45, 46, 47],\n",
       "       [ 0,  1,  2,  3,  4,  5, 30, 31, 32, 33, 34, 35, 12, 13, 14, 15,\n",
       "        16, 17, 42, 43, 44, 45, 46, 47,  0,  1,  2,  3,  4,  5, 30, 31,\n",
       "        32, 33, 34, 35, 12, 13, 14, 15, 16, 17, 42, 43, 44, 45, 46, 47]])"
      ]
     },
     "execution_count": 39,
     "metadata": {},
     "output_type": "execute_result"
    }
   ],
   "source": [
    "elem_map"
   ]
  },
  {
   "cell_type": "code",
   "execution_count": 65,
   "id": "85cba118-06f4-42a2-a8ae-a457d6447e5e",
   "metadata": {},
   "outputs": [],
   "source": [
    "# site_orbital_representation(graphene, coset_pairs, elem_map, graphene.group.irreducible_representations['g7p'])"
   ]
  },
  {
   "cell_type": "code",
   "execution_count": null,
   "id": "18c15827-77ee-4fcd-9d05-fb0589881017",
   "metadata": {},
   "outputs": [],
   "source": []
  },
  {
   "cell_type": "code",
   "execution_count": null,
   "id": "2f662ace-8ea4-4fa1-b27c-bf6a7fe50218",
   "metadata": {},
   "outputs": [],
   "source": []
  },
  {
   "cell_type": "code",
   "execution_count": null,
   "id": "f976dab6-2f17-439b-b179-d2f362739d17",
   "metadata": {},
   "outputs": [],
   "source": []
  },
  {
   "cell_type": "code",
   "execution_count": null,
   "id": "ce293c1a-d1f1-4abb-a527-bddf87a34468",
   "metadata": {},
   "outputs": [],
   "source": []
  },
  {
   "cell_type": "code",
   "execution_count": null,
   "id": "f6fe05b8-cfc0-49b8-86f6-885cb3eba4f6",
   "metadata": {},
   "outputs": [],
   "source": []
  },
  {
   "cell_type": "code",
   "execution_count": 142,
   "id": "fdb94cf2-dc64-49a0-89bb-1d057cf3da55",
   "metadata": {
    "scrolled": true
   },
   "outputs": [
    {
     "name": "stdout",
     "output_type": "stream",
     "text": [
      "Matrix([[0], [-1.0*a], [0]])\n",
      "[Matrix([\n",
      "[     0],\n",
      "[-1.0*a],\n",
      "[     0]]), Matrix([\n",
      "[0.5*sqrt(3)*a],\n",
      "[        0.5*a],\n",
      "[            0]]), Matrix([\n",
      "[-0.5*sqrt(3)*a],\n",
      "[         0.5*a],\n",
      "[             0]]), Matrix([\n",
      "[    0],\n",
      "[1.0*a],\n",
      "[    0]]), Matrix([\n",
      "[-0.5*sqrt(3)*a],\n",
      "[        -0.5*a],\n",
      "[             0]]), Matrix([\n",
      "[0.5*sqrt(3)*a],\n",
      "[       -0.5*a],\n",
      "[            0]])]\n"
     ]
    },
    {
     "data": {
      "text/plain": [
       "0"
      ]
     },
     "execution_count": 142,
     "metadata": {},
     "output_type": "execute_result"
    }
   ],
   "source": [
    "shell_representation(graphene, shell_number=1, t_bra=0, t_ket=1)[0]"
   ]
  },
  {
   "cell_type": "code",
   "execution_count": 13,
   "id": "9ec3c7f7-a39f-47cc-b929-e6bf43cc8602",
   "metadata": {},
   "outputs": [],
   "source": [
    "F_faithful = graphene.group.faithful_representation()\n",
    "ssg_faithful = graphene.site_symmetry_group.faithful_representation()\n",
    "gk_faithful = GroupD6D3hC6v(name='d3h', edge_x_orientation=True, is_double_group=True).faithful_representation()\n"
   ]
  },
  {
   "cell_type": "code",
   "execution_count": 89,
   "id": "c6f20fa2-131b-4186-84c2-c2a6e1026e81",
   "metadata": {},
   "outputs": [
    {
     "data": {
      "text/plain": [
       "array([[[ 0.8660254],\n",
       "        [-1.5      ],\n",
       "        [ 0.       ]],\n",
       "\n",
       "       [[ 0.8660254],\n",
       "        [ 1.5      ],\n",
       "        [ 0.       ]],\n",
       "\n",
       "       [[ 0.       ],\n",
       "        [ 0.       ],\n",
       "        [ 1.       ]]])"
      ]
     },
     "execution_count": 89,
     "metadata": {},
     "output_type": "execute_result"
    }
   ],
   "source": [
    "np.asarray([graphene.lattice.a1, graphene.lattice.a2, graphene.lattice.a3], dtype=float)"
   ]
  },
  {
   "cell_type": "code",
   "execution_count": null,
   "id": "59212f59-9bae-4bbf-bb0c-c0271d292d3c",
   "metadata": {},
   "outputs": [],
   "source": []
  },
  {
   "cell_type": "code",
   "execution_count": 16,
   "id": "771b60ce-aed0-4f30-9806-afb83777aff6",
   "metadata": {},
   "outputs": [
    {
     "data": {
      "text/plain": [
       "[\"C'2(1)\",\n",
       " \"C'2(2)\",\n",
       " \"C'2(3)\",\n",
       " 'C3',\n",
       " 'C3^2',\n",
       " 'E',\n",
       " 'E_bar',\n",
       " \"E_bar*C'2(1)\",\n",
       " \"E_bar*C'2(2)\",\n",
       " \"E_bar*C'2(3)\",\n",
       " 'E_bar*C3',\n",
       " 'E_bar*C3^2',\n",
       " 'I*C2',\n",
       " \"I*C2*C'2(1)\",\n",
       " \"I*C2*C'2(2)\",\n",
       " \"I*C2*C'2(3)\",\n",
       " 'I*C2*C3',\n",
       " 'I*C2*C3^2',\n",
       " 'I_bar*C2',\n",
       " \"I_bar*C2*C'2(1)\",\n",
       " \"I_bar*C2*C'2(2)\",\n",
       " \"I_bar*C2*C'2(3)\",\n",
       " 'I_bar*C2*C3',\n",
       " 'I_bar*C2*C3^2']"
      ]
     },
     "execution_count": 16,
     "metadata": {},
     "output_type": "execute_result"
    }
   ],
   "source": [
    "sorted([graphene.group.elements[i] for i in [F_faithful.index(a) for a in ssg_faithful]])"
   ]
  },
  {
   "cell_type": "code",
   "execution_count": null,
   "id": "b59d3e1d-83bf-4dae-a885-d2232aeb7ea9",
   "metadata": {},
   "outputs": [],
   "source": []
  },
  {
   "cell_type": "code",
   "execution_count": null,
   "id": "e94056da-184e-41ea-9b56-fa94165e8345",
   "metadata": {},
   "outputs": [],
   "source": []
  },
  {
   "cell_type": "code",
   "execution_count": null,
   "id": "5d403ffe-6d0b-4848-927c-0dc4ad86f3a6",
   "metadata": {},
   "outputs": [],
   "source": []
  },
  {
   "cell_type": "code",
   "execution_count": null,
   "id": "29bfa43f-c01a-4308-acde-9664f3d1c6c1",
   "metadata": {},
   "outputs": [],
   "source": [
    "[(i,j) for i,j in zip([F_faithful[key] for key in ssg_faithful.keys()], ssg_faithful.values())][6:11]"
   ]
  },
  {
   "cell_type": "code",
   "execution_count": null,
   "id": "693095c0-8546-4b88-a319-30242dbc3e09",
   "metadata": {},
   "outputs": [],
   "source": [
    "print({name: r for name, r in zip(graphene.group.elements, graphene.group.faithful_representation())}['I'])"
   ]
  },
  {
   "cell_type": "code",
   "execution_count": null,
   "id": "2e653c9c-f4f6-478f-80b9-927c2eb6782f",
   "metadata": {},
   "outputs": [],
   "source": [
    "np.array(graphene.group.elements)[mapping[(0,1)]]"
   ]
  },
  {
   "cell_type": "code",
   "execution_count": null,
   "id": "39733629-ad01-44dd-aa9a-837cb41355df",
   "metadata": {},
   "outputs": [],
   "source": []
  },
  {
   "cell_type": "code",
   "execution_count": null,
   "id": "f78fd460-f248-417c-b427-f1ce38143432",
   "metadata": {},
   "outputs": [],
   "source": []
  },
  {
   "cell_type": "code",
   "execution_count": null,
   "id": "ca592823-c4bd-493c-a9d4-cbf44aef3232",
   "metadata": {},
   "outputs": [],
   "source": [
    "graphene.site_symmetry_group.elements"
   ]
  },
  {
   "cell_type": "code",
   "execution_count": null,
   "id": "474917b9-9ed1-478d-b8f9-7f02c1750334",
   "metadata": {},
   "outputs": [],
   "source": [
    "graphene.tau_vectors"
   ]
  },
  {
   "cell_type": "code",
   "execution_count": null,
   "id": "a41f8b89-ef5c-4b11-9bfc-1b64657b5529",
   "metadata": {},
   "outputs": [],
   "source": [
    "mapping[(0,0)]"
   ]
  },
  {
   "cell_type": "code",
   "execution_count": null,
   "id": "9905d6e5-dbb4-45db-a84b-1ef86a85b568",
   "metadata": {},
   "outputs": [],
   "source": [
    "len(graphene.group.elements)"
   ]
  },
  {
   "cell_type": "code",
   "execution_count": null,
   "id": "b6fcabd2-24d3-4ff2-bc7b-03e560000f65",
   "metadata": {},
   "outputs": [],
   "source": [
    "sp.Matrix([[1,0], [0,1]]).shape"
   ]
  },
  {
   "cell_type": "code",
   "execution_count": null,
   "id": "18c51dbd-9474-403d-b433-fc566edf69ee",
   "metadata": {},
   "outputs": [],
   "source": [
    "np.sort(np.array(graphene.group.elements)[mapping[(0,0)]])"
   ]
  },
  {
   "cell_type": "code",
   "execution_count": null,
   "id": "f9044896-7ae4-446d-a141-1ae69b487042",
   "metadata": {},
   "outputs": [],
   "source": [
    "np.sort(np.array(graphene.site_symmetry_group.elements))"
   ]
  },
  {
   "cell_type": "code",
   "execution_count": null,
   "id": "7167a321-8398-4615-97a7-8325afc26cd7",
   "metadata": {},
   "outputs": [],
   "source": [
    "np.array(self.group.faithful_representation())[coset_rep_idx][0]"
   ]
  },
  {
   "cell_type": "code",
   "execution_count": null,
   "id": "7b225540-d04c-412d-92c7-ac6709e57bca",
   "metadata": {},
   "outputs": [],
   "source": [
    "site_orbital_representation(graphene)"
   ]
  },
  {
   "cell_type": "code",
   "execution_count": null,
   "id": "b9a5db05-611f-447c-9d1b-5a26a38dd147",
   "metadata": {},
   "outputs": [],
   "source": [
    "graphene.lattice.get_lattice_vector(n=[1,0,0])"
   ]
  },
  {
   "cell_type": "code",
   "execution_count": null,
   "id": "26784224-d1a6-41eb-9f56-3a3b2c76853a",
   "metadata": {},
   "outputs": [],
   "source": [
    "orb_rep = graphene.site_orbital_representation()"
   ]
  },
  {
   "cell_type": "code",
   "execution_count": null,
   "id": "0deb2da7-d912-4ffa-a4a2-c6c35ab38860",
   "metadata": {},
   "outputs": [],
   "source": [
    "orb_rep[:10]"
   ]
  },
  {
   "cell_type": "code",
   "execution_count": null,
   "id": "c6562c87-2aa9-476c-b755-bfc34dbdd8e8",
   "metadata": {},
   "outputs": [],
   "source": []
  }
 ],
 "metadata": {
  "kernelspec": {
   "display_name": "method_of_invariant",
   "language": "python",
   "name": "method_of_invariant"
  },
  "language_info": {
   "codemirror_mode": {
    "name": "ipython",
    "version": 3
   },
   "file_extension": ".py",
   "mimetype": "text/x-python",
   "name": "python",
   "nbconvert_exporter": "python",
   "pygments_lexer": "ipython3",
   "version": "3.11.10"
  }
 },
 "nbformat": 4,
 "nbformat_minor": 5
}
