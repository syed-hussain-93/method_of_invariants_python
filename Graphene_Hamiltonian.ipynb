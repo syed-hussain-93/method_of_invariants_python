{
 "cells": [
  {
   "cell_type": "code",
   "execution_count": 1,
   "id": "9bd88645-2c7c-42df-852d-efb430681732",
   "metadata": {},
   "outputs": [],
   "source": [
    "from representation_matrices_explicit import GroupD6h, GroupD6D3hC6v, BaseGroup\n",
    "from graphene.graphene import GrapheneHamiltonian, CosetReps\n",
    "import numpy as np\n",
    "import sympy as sp\n",
    "\n",
    "%load_ext autoreload\n",
    "%autoreload 2\n"
   ]
  },
  {
   "cell_type": "code",
   "execution_count": 2,
   "id": "c84e909c-0ace-4ebc-a2eb-ed2674ddbaaa",
   "metadata": {},
   "outputs": [],
   "source": [
    "sp.init_printing()"
   ]
  },
  {
   "cell_type": "code",
   "execution_count": 3,
   "id": "b2773b3e-c5e0-44bb-aaf6-94082f1ddcba",
   "metadata": {},
   "outputs": [],
   "source": [
    "graphene_hamiltonian = GrapheneHamiltonian(with_spin=True)\n",
    "graphene_hamiltonian.run_setup(wyckoff_position='2b')"
   ]
  },
  {
   "cell_type": "code",
   "execution_count": 4,
   "id": "681bbe57-756a-4aa4-8639-871b4dfe62ac",
   "metadata": {},
   "outputs": [],
   "source": [
    "shell_0 = graphene_hamiltonian.generate_shell_vectors(shell_number=0, t_bra=0, t_ket=0)\n",
    "shell_1 = graphene_hamiltonian.generate_shell_vectors(shell_number=1, t_bra=0, t_ket=1)\n",
    "shell_2 = graphene_hamiltonian.generate_shell_vectors(shell_number=2, t_bra=0, t_ket=0)"
   ]
  },
  {
   "cell_type": "code",
   "execution_count": 30,
   "id": "d871877b-9bd5-459f-b028-5432f4cc2024",
   "metadata": {},
   "outputs": [],
   "source": [
    "Hs_form_0 = graphene_hamiltonian.generate_invariant_form(\n",
    "    shell_number=0, \n",
    "    bra_orbital_irrep_name='g4m', \n",
    "    ket_orbital_irrep_name='g4m', \n",
    "    location_trial={(0,0,0): 2}\n",
    ")\n",
    "Hs_form_1 = graphene_hamiltonian.generate_invariant_form(\n",
    "    shell_number=1, \n",
    "    bra_orbital_irrep_name='g4m', \n",
    "    ket_orbital_irrep_name='g4m', \n",
    "    location_trial={(0,0,1): 6}\n",
    ")\n",
    "Hs_form_2 = graphene_hamiltonian.generate_invariant_form(\n",
    "    shell_number=2, \n",
    "    bra_orbital_irrep_name='g4m', \n",
    "    ket_orbital_irrep_name='g4m', \n",
    "    location_trial={(0,0,0): 12}\n",
    ")\n",
    "\n",
    "\n",
    "Hd_form_0 = graphene_hamiltonian.generate_invariant_form(\n",
    "    shell_number=0, \n",
    "    bra_orbital_irrep_name='g8p', \n",
    "    ket_orbital_irrep_name='g8p', \n",
    "    location_trial={(0,0,0): 4}\n",
    ")\n",
    "Hd_form_1 = graphene_hamiltonian.generate_invariant_form(\n",
    "    shell_number=1, \n",
    "    bra_orbital_irrep_name='g8p', \n",
    "    ket_orbital_irrep_name='g8p', \n",
    "    location_trial={(0,0,2): 12}\n",
    ")"
   ]
  },
  {
   "cell_type": "code",
   "execution_count": 31,
   "id": "d87f4e0a-60c4-4069-a935-49c4fc26e052",
   "metadata": {},
   "outputs": [
    {
     "data": {
      "image/png": "[encoded data removed]",
      "text/latex": [
       "$\\displaystyle \\left[ \\left[\\begin{matrix}0 & 0 & 1 & 0\\\\0 & 0 & 0 & 1\\\\0 & 0 & 0 & 0\\\\0 & 0 & 0 & 0\\end{matrix}\\right], \\  \\left[\\begin{matrix}0 & 0 & 1 & 0\\\\0 & 0 & 0 & 1\\\\0 & 0 & 0 & 0\\\\0 & 0 & 0 & 0\\end{matrix}\\right], \\  \\left[\\begin{matrix}0 & 0 & 1 & 0\\\\0 & 0 & 0 & 1\\\\0 & 0 & 0 & 0\\\\0 & 0 & 0 & 0\\end{matrix}\\right], \\  \\left[\\begin{matrix}0 & 0 & 0 & 0\\\\0 & 0 & 0 & 0\\\\1 & 0 & 0 & 0\\\\0 & 1 & 0 & 0\\end{matrix}\\right], \\  \\left[\\begin{matrix}0 & 0 & 0 & 0\\\\0 & 0 & 0 & 0\\\\1 & 0 & 0 & 0\\\\0 & 1 & 0 & 0\\end{matrix}\\right], \\  \\left[\\begin{matrix}0 & 0 & 0 & 0\\\\0 & 0 & 0 & 0\\\\1 & 0 & 0 & 0\\\\0 & 1 & 0 & 0\\end{matrix}\\right]\\right]$"
      ],
      "text/plain": [
       "⎡⎡0  0  1  0⎤  ⎡0  0  1  0⎤  ⎡0  0  1  0⎤  ⎡0  0  0  0⎤  ⎡0  0  0  0⎤  ⎡0  0   ↪\n",
       "⎢⎢          ⎥  ⎢          ⎥  ⎢          ⎥  ⎢          ⎥  ⎢          ⎥  ⎢       ↪\n",
       "⎢⎢0  0  0  1⎥  ⎢0  0  0  1⎥  ⎢0  0  0  1⎥  ⎢0  0  0  0⎥  ⎢0  0  0  0⎥  ⎢0  0   ↪\n",
       "⎢⎢          ⎥, ⎢          ⎥, ⎢          ⎥, ⎢          ⎥, ⎢          ⎥, ⎢       ↪\n",
       "⎢⎢0  0  0  0⎥  ⎢0  0  0  0⎥  ⎢0  0  0  0⎥  ⎢1  0  0  0⎥  ⎢1  0  0  0⎥  ⎢1  0   ↪\n",
       "⎢⎢          ⎥  ⎢          ⎥  ⎢          ⎥  ⎢          ⎥  ⎢          ⎥  ⎢       ↪\n",
       "⎣⎣0  0  0  0⎦  ⎣0  0  0  0⎦  ⎣0  0  0  0⎦  ⎣0  1  0  0⎦  ⎣0  1  0  0⎦  ⎣0  1   ↪\n",
       "\n",
       "↪ 0  0⎤⎤\n",
       "↪     ⎥⎥\n",
       "↪ 0  0⎥⎥\n",
       "↪     ⎥⎥\n",
       "↪ 0  0⎥⎥\n",
       "↪     ⎥⎥\n",
       "↪ 0  0⎦⎦"
      ]
     },
     "execution_count": 31,
     "metadata": {},
     "output_type": "execute_result"
    }
   ],
   "source": [
    "Hd_form_1"
   ]
  },
  {
   "cell_type": "code",
   "execution_count": 48,
   "id": "5fdba494-4fca-4091-b864-630fc21d647f",
   "metadata": {},
   "outputs": [
    {
     "data": {
      "image/png": "[encoded data removed]",
      "text/latex": [
       "$\\displaystyle \\left[ \\left[\\begin{matrix}1 & 0 & 0 & 0\\\\0 & 1 & 0 & 0\\\\0 & 0 & 1 & 0\\\\0 & 0 & 0 & 1\\end{matrix}\\right], \\  \\left[\\begin{matrix}1 & 0 & 0 & 0\\\\0 & 1 & 0 & 0\\\\0 & 0 & 1 & 0\\\\0 & 0 & 0 & 1\\end{matrix}\\right], \\  \\left[\\begin{matrix}1 & 0 & 0 & 0\\\\0 & 1 & 0 & 0\\\\0 & 0 & 1 & 0\\\\0 & 0 & 0 & 1\\end{matrix}\\right], \\  \\left[\\begin{matrix}1 & 0 & 0 & 0\\\\0 & 1 & 0 & 0\\\\0 & 0 & 1 & 0\\\\0 & 0 & 0 & 1\\end{matrix}\\right], \\  \\left[\\begin{matrix}1 & 0 & 0 & 0\\\\0 & 1 & 0 & 0\\\\0 & 0 & 1 & 0\\\\0 & 0 & 0 & 1\\end{matrix}\\right], \\  \\left[\\begin{matrix}1 & 0 & 0 & 0\\\\0 & 1 & 0 & 0\\\\0 & 0 & 1 & 0\\\\0 & 0 & 0 & 1\\end{matrix}\\right]\\right]$"
      ],
      "text/plain": [
       "⎡⎡1  0  0  0⎤  ⎡1  0  0  0⎤  ⎡1  0  0  0⎤  ⎡1  0  0  0⎤  ⎡1  0  0  0⎤  ⎡1  0   ↪\n",
       "⎢⎢          ⎥  ⎢          ⎥  ⎢          ⎥  ⎢          ⎥  ⎢          ⎥  ⎢       ↪\n",
       "⎢⎢0  1  0  0⎥  ⎢0  1  0  0⎥  ⎢0  1  0  0⎥  ⎢0  1  0  0⎥  ⎢0  1  0  0⎥  ⎢0  1   ↪\n",
       "⎢⎢          ⎥, ⎢          ⎥, ⎢          ⎥, ⎢          ⎥, ⎢          ⎥, ⎢       ↪\n",
       "⎢⎢0  0  1  0⎥  ⎢0  0  1  0⎥  ⎢0  0  1  0⎥  ⎢0  0  1  0⎥  ⎢0  0  1  0⎥  ⎢0  0   ↪\n",
       "⎢⎢          ⎥  ⎢          ⎥  ⎢          ⎥  ⎢          ⎥  ⎢          ⎥  ⎢       ↪\n",
       "⎣⎣0  0  0  1⎦  ⎣0  0  0  1⎦  ⎣0  0  0  1⎦  ⎣0  0  0  1⎦  ⎣0  0  0  1⎦  ⎣0  0   ↪\n",
       "\n",
       "↪ 0  0⎤⎤\n",
       "↪     ⎥⎥\n",
       "↪ 0  0⎥⎥\n",
       "↪     ⎥⎥\n",
       "↪ 1  0⎥⎥\n",
       "↪     ⎥⎥\n",
       "↪ 0  1⎦⎦"
      ]
     },
     "execution_count": 48,
     "metadata": {},
     "output_type": "execute_result"
    }
   ],
   "source": [
    "Hd_form_2_1 = graphene_hamiltonian.generate_invariant_form(\n",
    "    shell_number=2, \n",
    "    bra_orbital_irrep_name='g8p', \n",
    "    ket_orbital_irrep_name='g8p', \n",
    "    location_trial={(0,0,0): 12, (0, 0, 5): 12}\n",
    ")\n",
    "\n",
    "Hd_form_2_2 = graphene_hamiltonian.generate_invariant_form(\n",
    "    shell_number=2, \n",
    "    bra_orbital_irrep_name='g8p', \n",
    "    ket_orbital_irrep_name='g8p', \n",
    "    location_trial={(0,0,0): 12, (0, 0, 5): -12}\n",
    ")\n",
    "\n",
    "Hd_form_2_1"
   ]
  },
  {
   "cell_type": "code",
   "execution_count": 50,
   "id": "1ebd9df2-2196-4aa6-b429-27bb41841308",
   "metadata": {},
   "outputs": [
    {
     "data": {
      "image/png": "[encoded data removed]",
      "text/latex": [
       "$\\displaystyle \\left[ \\left[\\begin{matrix}1 & 0 & 0 & 0\\\\0 & 1 & 0 & 0\\\\0 & 0 & 1 & 0\\\\0 & 0 & 0 & 1\\end{matrix}\\right]\\right]$"
      ],
      "text/plain": [
       "⎡⎡1  0  0  0⎤⎤\n",
       "⎢⎢          ⎥⎥\n",
       "⎢⎢0  1  0  0⎥⎥\n",
       "⎢⎢          ⎥⎥\n",
       "⎢⎢0  0  1  0⎥⎥\n",
       "⎢⎢          ⎥⎥\n",
       "⎣⎣0  0  0  1⎦⎦"
      ]
     },
     "execution_count": 50,
     "metadata": {},
     "output_type": "execute_result"
    }
   ],
   "source": [
    "Hd_form_0"
   ]
  },
  {
   "cell_type": "code",
   "execution_count": 51,
   "id": "4f1f4516-0884-4189-b8f5-6dd44de94488",
   "metadata": {},
   "outputs": [
    {
     "data": {
      "image/png": "[encoded data removed]",
      "text/latex": [
       "$\\displaystyle \\left[ \\left[\\begin{matrix}0 & 0 & 1 & 0\\\\0 & 0 & 0 & 1\\\\0 & 0 & 0 & 0\\\\0 & 0 & 0 & 0\\end{matrix}\\right], \\  \\left[\\begin{matrix}0 & 0 & 1 & 0\\\\0 & 0 & 0 & 1\\\\0 & 0 & 0 & 0\\\\0 & 0 & 0 & 0\\end{matrix}\\right], \\  \\left[\\begin{matrix}0 & 0 & 1 & 0\\\\0 & 0 & 0 & 1\\\\0 & 0 & 0 & 0\\\\0 & 0 & 0 & 0\\end{matrix}\\right], \\  \\left[\\begin{matrix}0 & 0 & 0 & 0\\\\0 & 0 & 0 & 0\\\\1 & 0 & 0 & 0\\\\0 & 1 & 0 & 0\\end{matrix}\\right], \\  \\left[\\begin{matrix}0 & 0 & 0 & 0\\\\0 & 0 & 0 & 0\\\\1 & 0 & 0 & 0\\\\0 & 1 & 0 & 0\\end{matrix}\\right], \\  \\left[\\begin{matrix}0 & 0 & 0 & 0\\\\0 & 0 & 0 & 0\\\\1 & 0 & 0 & 0\\\\0 & 1 & 0 & 0\\end{matrix}\\right]\\right]$"
      ],
      "text/plain": [
       "⎡⎡0  0  1  0⎤  ⎡0  0  1  0⎤  ⎡0  0  1  0⎤  ⎡0  0  0  0⎤  ⎡0  0  0  0⎤  ⎡0  0   ↪\n",
       "⎢⎢          ⎥  ⎢          ⎥  ⎢          ⎥  ⎢          ⎥  ⎢          ⎥  ⎢       ↪\n",
       "⎢⎢0  0  0  1⎥  ⎢0  0  0  1⎥  ⎢0  0  0  1⎥  ⎢0  0  0  0⎥  ⎢0  0  0  0⎥  ⎢0  0   ↪\n",
       "⎢⎢          ⎥, ⎢          ⎥, ⎢          ⎥, ⎢          ⎥, ⎢          ⎥, ⎢       ↪\n",
       "⎢⎢0  0  0  0⎥  ⎢0  0  0  0⎥  ⎢0  0  0  0⎥  ⎢1  0  0  0⎥  ⎢1  0  0  0⎥  ⎢1  0   ↪\n",
       "⎢⎢          ⎥  ⎢          ⎥  ⎢          ⎥  ⎢          ⎥  ⎢          ⎥  ⎢       ↪\n",
       "⎣⎣0  0  0  0⎦  ⎣0  0  0  0⎦  ⎣0  0  0  0⎦  ⎣0  1  0  0⎦  ⎣0  1  0  0⎦  ⎣0  1   ↪\n",
       "\n",
       "↪ 0  0⎤⎤\n",
       "↪     ⎥⎥\n",
       "↪ 0  0⎥⎥\n",
       "↪     ⎥⎥\n",
       "↪ 0  0⎥⎥\n",
       "↪     ⎥⎥\n",
       "↪ 0  0⎦⎦"
      ]
     },
     "execution_count": 51,
     "metadata": {},
     "output_type": "execute_result"
    }
   ],
   "source": [
    "Hd_form_1"
   ]
  },
  {
   "cell_type": "code",
   "execution_count": 53,
   "id": "2fe25200-322b-431f-acdb-4f5ac49793b4",
   "metadata": {},
   "outputs": [
    {
     "data": {
      "image/png": "[encoded data removed]",
      "text/latex": [
       "$\\displaystyle \\left[ \\left[\\begin{matrix}1 & 0 & 0 & 0\\\\0 & 1 & 0 & 0\\\\0 & 0 & 1 & 0\\\\0 & 0 & 0 & 1\\end{matrix}\\right], \\  \\left[\\begin{matrix}1 & 0 & 0 & 0\\\\0 & 1 & 0 & 0\\\\0 & 0 & 1 & 0\\\\0 & 0 & 0 & 1\\end{matrix}\\right], \\  \\left[\\begin{matrix}1 & 0 & 0 & 0\\\\0 & 1 & 0 & 0\\\\0 & 0 & 1 & 0\\\\0 & 0 & 0 & 1\\end{matrix}\\right], \\  \\left[\\begin{matrix}1 & 0 & 0 & 0\\\\0 & 1 & 0 & 0\\\\0 & 0 & 1 & 0\\\\0 & 0 & 0 & 1\\end{matrix}\\right], \\  \\left[\\begin{matrix}1 & 0 & 0 & 0\\\\0 & 1 & 0 & 0\\\\0 & 0 & 1 & 0\\\\0 & 0 & 0 & 1\\end{matrix}\\right], \\  \\left[\\begin{matrix}1 & 0 & 0 & 0\\\\0 & 1 & 0 & 0\\\\0 & 0 & 1 & 0\\\\0 & 0 & 0 & 1\\end{matrix}\\right]\\right]$"
      ],
      "text/plain": [
       "⎡⎡1  0  0  0⎤  ⎡1  0  0  0⎤  ⎡1  0  0  0⎤  ⎡1  0  0  0⎤  ⎡1  0  0  0⎤  ⎡1  0   ↪\n",
       "⎢⎢          ⎥  ⎢          ⎥  ⎢          ⎥  ⎢          ⎥  ⎢          ⎥  ⎢       ↪\n",
       "⎢⎢0  1  0  0⎥  ⎢0  1  0  0⎥  ⎢0  1  0  0⎥  ⎢0  1  0  0⎥  ⎢0  1  0  0⎥  ⎢0  1   ↪\n",
       "⎢⎢          ⎥, ⎢          ⎥, ⎢          ⎥, ⎢          ⎥, ⎢          ⎥, ⎢       ↪\n",
       "⎢⎢0  0  1  0⎥  ⎢0  0  1  0⎥  ⎢0  0  1  0⎥  ⎢0  0  1  0⎥  ⎢0  0  1  0⎥  ⎢0  0   ↪\n",
       "⎢⎢          ⎥  ⎢          ⎥  ⎢          ⎥  ⎢          ⎥  ⎢          ⎥  ⎢       ↪\n",
       "⎣⎣0  0  0  1⎦  ⎣0  0  0  1⎦  ⎣0  0  0  1⎦  ⎣0  0  0  1⎦  ⎣0  0  0  1⎦  ⎣0  0   ↪\n",
       "\n",
       "↪ 0  0⎤⎤\n",
       "↪     ⎥⎥\n",
       "↪ 0  0⎥⎥\n",
       "↪     ⎥⎥\n",
       "↪ 1  0⎥⎥\n",
       "↪     ⎥⎥\n",
       "↪ 0  1⎦⎦"
      ]
     },
     "execution_count": 53,
     "metadata": {},
     "output_type": "execute_result"
    }
   ],
   "source": [
    "Hd_form_2_1"
   ]
  },
  {
   "cell_type": "code",
   "execution_count": 54,
   "id": "ae090702-fdb3-43fb-8727-3cd11952b494",
   "metadata": {},
   "outputs": [
    {
     "data": {
      "image/png": "[encoded data removed]",
      "text/latex": [
       "$\\displaystyle \\left[ \\left[\\begin{matrix}1 & 0 & 0 & 0\\\\0 & -1 & 0 & 0\\\\0 & 0 & -1 & 0\\\\0 & 0 & 0 & 1\\end{matrix}\\right], \\  \\left[\\begin{matrix}1 & 0 & 0 & 0\\\\0 & -1 & 0 & 0\\\\0 & 0 & -1 & 0\\\\0 & 0 & 0 & 1\\end{matrix}\\right], \\  \\left[\\begin{matrix}1 & 0 & 0 & 0\\\\0 & -1 & 0 & 0\\\\0 & 0 & -1 & 0\\\\0 & 0 & 0 & 1\\end{matrix}\\right], \\  \\left[\\begin{matrix}-1 & 0 & 0 & 0\\\\0 & 1 & 0 & 0\\\\0 & 0 & 1 & 0\\\\0 & 0 & 0 & -1\\end{matrix}\\right], \\  \\left[\\begin{matrix}-1 & 0 & 0 & 0\\\\0 & 1 & 0 & 0\\\\0 & 0 & 1 & 0\\\\0 & 0 & 0 & -1\\end{matrix}\\right], \\  \\left[\\begin{matrix}-1 & 0 & 0 & 0\\\\0 & 1 & 0 & 0\\\\0 & 0 & 1 & 0\\\\0 & 0 & 0 & -1\\end{matrix}\\right]\\right]$"
      ],
      "text/plain": [
       "⎡⎡1  0   0   0⎤  ⎡1  0   0   0⎤  ⎡1  0   0   0⎤  ⎡-1  0  0  0 ⎤  ⎡-1  0  0  0  ↪\n",
       "⎢⎢            ⎥  ⎢            ⎥  ⎢            ⎥  ⎢            ⎥  ⎢             ↪\n",
       "⎢⎢0  -1  0   0⎥  ⎢0  -1  0   0⎥  ⎢0  -1  0   0⎥  ⎢0   1  0  0 ⎥  ⎢0   1  0  0  ↪\n",
       "⎢⎢            ⎥, ⎢            ⎥, ⎢            ⎥, ⎢            ⎥, ⎢             ↪\n",
       "⎢⎢0  0   -1  0⎥  ⎢0  0   -1  0⎥  ⎢0  0   -1  0⎥  ⎢0   0  1  0 ⎥  ⎢0   0  1  0  ↪\n",
       "⎢⎢            ⎥  ⎢            ⎥  ⎢            ⎥  ⎢            ⎥  ⎢             ↪\n",
       "⎣⎣0  0   0   1⎦  ⎣0  0   0   1⎦  ⎣0  0   0   1⎦  ⎣0   0  0  -1⎦  ⎣0   0  0  -1 ↪\n",
       "\n",
       "↪ ⎤  ⎡-1  0  0  0 ⎤⎤\n",
       "↪ ⎥  ⎢            ⎥⎥\n",
       "↪ ⎥  ⎢0   1  0  0 ⎥⎥\n",
       "↪ ⎥, ⎢            ⎥⎥\n",
       "↪ ⎥  ⎢0   0  1  0 ⎥⎥\n",
       "↪ ⎥  ⎢            ⎥⎥\n",
       "↪ ⎦  ⎣0   0  0  -1⎦⎦"
      ]
     },
     "execution_count": 54,
     "metadata": {},
     "output_type": "execute_result"
    }
   ],
   "source": [
    "Hd_form_2_2"
   ]
  },
  {
   "cell_type": "code",
   "execution_count": 56,
   "id": "ae904978-fced-4a74-b5df-87c7e6387798",
   "metadata": {},
   "outputs": [],
   "source": [
    "Hd_forms = {0: [Hd_form_0], 1: [Hd_form_1], 2: [Hd_form_2_1, Hd_form_2_2]}\n",
    "shells = {0: shell_0, 1: shell_1, 2: shell_2}"
   ]
  },
  {
   "cell_type": "code",
   "execution_count": null,
   "id": "a95914c8-23eb-4a9c-b143-55a57fe3a461",
   "metadata": {},
   "outputs": [],
   "source": []
  },
  {
   "cell_type": "code",
   "execution_count": null,
   "id": "2d5f0efd-0b5e-4e5e-84a6-c5afab4f60ac",
   "metadata": {},
   "outputs": [],
   "source": []
  },
  {
   "cell_type": "code",
   "execution_count": null,
   "id": "653c1ed5-d172-401a-bb65-22853aec34c3",
   "metadata": {},
   "outputs": [],
   "source": []
  },
  {
   "cell_type": "code",
   "execution_count": 19,
   "id": "2dfafaf2-bb8c-47cc-a3ea-e0a98b10f130",
   "metadata": {
    "scrolled": true
   },
   "outputs": [],
   "source": [
    "H_1 = graphene_hamiltonian.construct_projection_operator(shell_number=1, bra_orbital_irrep_name='g8p', ket_orbital_irrep_name='g8p')"
   ]
  },
  {
   "cell_type": "code",
   "execution_count": 44,
   "id": "0d425c28-9870-46bc-a3d0-dca96cb7b706",
   "metadata": {
    "scrolled": true
   },
   "outputs": [],
   "source": [
    "tv = sp.zeros(H_1.shape[0],1)\n",
    "d_bra, d_ket = 4, 4\n",
    "m_t = 2 \n",
    "d_mu, d_nu = 2, 2\n",
    "i,j,k = (0,0,5)\n",
    "# tv[i*(d_bra*d_ket)+j*(d_ket * m_t*d_mu)+k*(d_mu * d_nu)] = 1\n",
    "tv[sum((i,j,k))] = 1"
   ]
  },
  {
   "cell_type": "code",
   "execution_count": 45,
   "id": "788962bf-8aef-4d6a-8c94-d31f51af4639",
   "metadata": {},
   "outputs": [
    {
     "data": {
      "image/png": "[encoded data removed]",
      "text/latex": [
       "$\\displaystyle \\left[ \\left[\\begin{matrix}0 & 0 & 0 & 0\\\\0 & 1 & 0 & 0\\\\0 & 0 & 0 & 0\\\\0 & 0 & 0 & 0\\end{matrix}\\right], \\  \\left[\\begin{matrix}0 & 0 & 0 & 0\\\\0 & 0 & 0 & 0\\\\0 & 0 & 0 & 0\\\\0 & 0 & 0 & 0\\end{matrix}\\right], \\  \\left[\\begin{matrix}0 & 0 & 0 & 0\\\\0 & 0 & 0 & 0\\\\0 & 0 & 0 & 0\\\\0 & 0 & 0 & 0\\end{matrix}\\right], \\  \\left[\\begin{matrix}0 & 0 & 0 & 0\\\\0 & 0 & 0 & 0\\\\0 & 0 & 0 & 0\\\\0 & 0 & 0 & 0\\end{matrix}\\right], \\  \\left[\\begin{matrix}0 & 0 & 0 & 0\\\\0 & 0 & 0 & 0\\\\0 & 0 & 0 & 0\\\\0 & 0 & 0 & 0\\end{matrix}\\right], \\  \\left[\\begin{matrix}0 & 0 & 0 & 0\\\\0 & 0 & 0 & 0\\\\0 & 0 & 0 & 0\\\\0 & 0 & 0 & 0\\end{matrix}\\right]\\right]$"
      ],
      "text/plain": [
       "⎡⎡0  0  0  0⎤  ⎡0  0  0  0⎤  ⎡0  0  0  0⎤  ⎡0  0  0  0⎤  ⎡0  0  0  0⎤  ⎡0  0   ↪\n",
       "⎢⎢          ⎥  ⎢          ⎥  ⎢          ⎥  ⎢          ⎥  ⎢          ⎥  ⎢       ↪\n",
       "⎢⎢0  1  0  0⎥  ⎢0  0  0  0⎥  ⎢0  0  0  0⎥  ⎢0  0  0  0⎥  ⎢0  0  0  0⎥  ⎢0  0   ↪\n",
       "⎢⎢          ⎥, ⎢          ⎥, ⎢          ⎥, ⎢          ⎥, ⎢          ⎥, ⎢       ↪\n",
       "⎢⎢0  0  0  0⎥  ⎢0  0  0  0⎥  ⎢0  0  0  0⎥  ⎢0  0  0  0⎥  ⎢0  0  0  0⎥  ⎢0  0   ↪\n",
       "⎢⎢          ⎥  ⎢          ⎥  ⎢          ⎥  ⎢          ⎥  ⎢          ⎥  ⎢       ↪\n",
       "⎣⎣0  0  0  0⎦  ⎣0  0  0  0⎦  ⎣0  0  0  0⎦  ⎣0  0  0  0⎦  ⎣0  0  0  0⎦  ⎣0  0   ↪\n",
       "\n",
       "↪ 0  0⎤⎤\n",
       "↪     ⎥⎥\n",
       "↪ 0  0⎥⎥\n",
       "↪     ⎥⎥\n",
       "↪ 0  0⎥⎥\n",
       "↪     ⎥⎥\n",
       "↪ 0  0⎦⎦"
      ]
     },
     "execution_count": 45,
     "metadata": {},
     "output_type": "execute_result"
    }
   ],
   "source": [
    "graphene_hamiltonian.reshape_hamiltonian(tv, 6, d_bra, d_ket)"
   ]
  },
  {
   "cell_type": "code",
   "execution_count": null,
   "id": "8e1b7674-2a1d-415b-96d1-693ead30ca87",
   "metadata": {},
   "outputs": [],
   "source": [
    "shell_1"
   ]
  },
  {
   "cell_type": "code",
   "execution_count": null,
   "id": "5d693991-6f37-435c-b8ec-4e11b35c80bd",
   "metadata": {},
   "outputs": [],
   "source": [
    "def get_exponential_factor(shell_vectors, hamiltonian_form):\n",
    "\n",
    "    pass\n",
    "    "
   ]
  },
  {
   "cell_type": "code",
   "execution_count": null,
   "id": "432f68b0-39cf-429f-bc0a-7d0274c74cc7",
   "metadata": {},
   "outputs": [],
   "source": [
    "f = sp.Function('f', real=True)"
   ]
  },
  {
   "cell_type": "code",
   "execution_count": null,
   "id": "caf8fcb1-88a5-4b7a-8877-00db0b50cefb",
   "metadata": {},
   "outputs": [],
   "source": [
    "f(graphene_hamiltonian.lattice.a).subs()"
   ]
  },
  {
   "cell_type": "code",
   "execution_count": null,
   "id": "e1f47089-efd0-4894-8607-f7e9867aa87b",
   "metadata": {},
   "outputs": [],
   "source": []
  }
 ],
 "metadata": {
  "kernelspec": {
   "display_name": "Python 3 (ipykernel)",
   "language": "python",
   "name": "python3"
  },
  "language_info": {
   "codemirror_mode": {
    "name": "ipython",
    "version": 3
   },
   "file_extension": ".py",
   "mimetype": "text/x-python",
   "name": "python",
   "nbconvert_exporter": "python",
   "pygments_lexer": "ipython3",
   "version": "3.10.17"
  }
 },
 "nbformat": 4,
 "nbformat_minor": 5
}
