{
 "cells": [
  {
   "cell_type": "code",
   "execution_count": 1,
   "id": "dcc7edd5-1f4c-44ff-9bfe-edc8790c4b0e",
   "metadata": {},
   "outputs": [],
   "source": [
    "from representation_matrices_explicit import GroupD6h, GroupD6D3hC6v, BaseGroup\n",
    "from graphene.graphene import GrapheneHamiltonian, CosetReps\n",
    "import numpy as np\n",
    "import sympy as sp\n",
    "\n",
    "%load_ext autoreload\n",
    "%autoreload 2\n"
   ]
  },
  {
   "cell_type": "code",
   "execution_count": 2,
   "id": "8b6aff9e-a364-4658-a58b-4dd61ca0fbbb",
   "metadata": {},
   "outputs": [],
   "source": [
    "sp.init_printing()"
   ]
  },
  {
   "cell_type": "code",
   "execution_count": null,
   "id": "28aef28e-aba7-4795-b226-6e3a7470c868",
   "metadata": {},
   "outputs": [],
   "source": [
    "d6h = GroupD6h(is_double_group=True)"
   ]
  },
  {
   "cell_type": "code",
   "execution_count": null,
   "id": "b9c5e088-bd75-4fc6-adfd-d4b09df08d36",
   "metadata": {},
   "outputs": [],
   "source": [
    "d6h.faithful_representation()[:4]"
   ]
  },
  {
   "cell_type": "code",
   "execution_count": 3,
   "id": "3d390b94-702e-49d4-b4b7-0f5fd34e420f",
   "metadata": {},
   "outputs": [],
   "source": [
    "graphene_con = GrapheneHamiltonian(with_spin=False)"
   ]
  },
  {
   "cell_type": "code",
   "execution_count": 14,
   "id": "07e04d0f-b248-440f-8be0-b66e346aa856",
   "metadata": {},
   "outputs": [
    {
     "ename": "AttributeError",
     "evalue": "'list' object has no attribute 'faithful_representation'",
     "output_type": "error",
     "traceback": [
      "\u001b[0;31m---------------------------------------------------------------------------\u001b[0m",
      "\u001b[0;31mAttributeError\u001b[0m                            Traceback (most recent call last)",
      "Cell \u001b[0;32mIn[14], line 1\u001b[0m\n\u001b[0;32m----> 1\u001b[0m \u001b[43mgenerate_band_representation\u001b[49m\u001b[43m(\u001b[49m\u001b[43mgraphene_con\u001b[49m\u001b[43m,\u001b[49m\u001b[43m \u001b[49m\n\u001b[1;32m      2\u001b[0m \u001b[43m                             \u001b[49m\u001b[43mgroup_of_k\u001b[49m\u001b[38;5;241;43m=\u001b[39;49m\u001b[43mGroupD6D3hC6v\u001b[49m\u001b[43m(\u001b[49m\u001b[43mname\u001b[49m\u001b[38;5;241;43m=\u001b[39;49m\u001b[38;5;124;43m'\u001b[39;49m\u001b[38;5;124;43md3h\u001b[39;49m\u001b[38;5;124;43m'\u001b[39;49m\u001b[43m,\u001b[49m\u001b[43m \u001b[49m\u001b[43medge_x_orientation\u001b[49m\u001b[38;5;241;43m=\u001b[39;49m\u001b[38;5;28;43;01mTrue\u001b[39;49;00m\u001b[43m)\u001b[49m\u001b[43m,\u001b[49m\u001b[43m \u001b[49m\n\u001b[1;32m      3\u001b[0m \u001b[43m                             \u001b[49m\u001b[43mcoset_reps_of_group_of_k_syms\u001b[49m\u001b[38;5;241;43m=\u001b[39;49m\u001b[43m[\u001b[49m\u001b[38;5;124;43m'\u001b[39;49m\u001b[38;5;124;43mE\u001b[39;49m\u001b[38;5;124;43m'\u001b[39;49m\u001b[43m,\u001b[49m\u001b[43m \u001b[49m\u001b[38;5;124;43m'\u001b[39;49m\u001b[38;5;124;43mI\u001b[39;49m\u001b[38;5;124;43m'\u001b[39;49m\u001b[43m]\u001b[49m\n\u001b[1;32m      4\u001b[0m \u001b[43m                            \u001b[49m\u001b[43m)\u001b[49m\n",
      "Cell \u001b[0;32mIn[13], line 5\u001b[0m, in \u001b[0;36mgenerate_band_representation\u001b[0;34m(self, group_of_k, coset_reps_of_group_of_k_syms)\u001b[0m\n\u001b[1;32m      1\u001b[0m \u001b[38;5;28;01mdef\u001b[39;00m \u001b[38;5;21mgenerate_band_representation\u001b[39m(\u001b[38;5;28mself\u001b[39m: GrapheneHamiltonian, group_of_k: BaseGroup, coset_reps_of_group_of_k_syms: \u001b[38;5;28mlist\u001b[39m[\u001b[38;5;28mstr\u001b[39m]):\n\u001b[1;32m      3\u001b[0m     coset_reps_group_of_k \u001b[38;5;241m=\u001b[39m CosetReps(symbols\u001b[38;5;241m=\u001b[39mcoset_reps_of_group_of_k_syms, full_group\u001b[38;5;241m=\u001b[39m\u001b[38;5;28mself\u001b[39m\u001b[38;5;241m.\u001b[39mgroup)\n\u001b[0;32m----> 5\u001b[0m     group_of_k_coset_mapping, _ \u001b[38;5;241m=\u001b[39m \u001b[38;5;28;43mself\u001b[39;49m\u001b[38;5;241;43m.\u001b[39;49m\u001b[43mfull_group_to_subgroup_mapping\u001b[49m\u001b[43m(\u001b[49m\u001b[43mgroup_of_k\u001b[49m\u001b[43m,\u001b[49m\u001b[43m \u001b[49m\u001b[43mcoset_reps_of_group_of_k_syms\u001b[49m\u001b[43m)\u001b[49m\n\u001b[1;32m      7\u001b[0m     \u001b[38;5;28;01mreturn\u001b[39;00m group_of_k_coset_mapping\n",
      "File \u001b[0;32m~/Documents/PhD/method_of_invariants_python/graphene/graphene.py:185\u001b[0m, in \u001b[0;36mGrapheneHamiltonian.full_group_to_subgroup_mapping\u001b[0;34m(self, sub_group, coset_reps)\u001b[0m\n\u001b[1;32m    182\u001b[0m sub_group_index_in_full_group \u001b[38;5;241m=\u001b[39m [full_group_faithful_rep\u001b[38;5;241m.\u001b[39mindex(x) \u001b[38;5;28;01mfor\u001b[39;00m x \u001b[38;5;129;01min\u001b[39;00m sub_group_faithful_rep]\n\u001b[1;32m    183\u001b[0m sub_group_in_full_group \u001b[38;5;241m=\u001b[39m [full_group_faithful_rep[i] \u001b[38;5;28;01mfor\u001b[39;00m i \u001b[38;5;129;01min\u001b[39;00m sub_group_index_in_full_group]\n\u001b[0;32m--> 185\u001b[0m coset_reps_f \u001b[38;5;241m=\u001b[39m \u001b[43mcoset_reps\u001b[49m\u001b[38;5;241;43m.\u001b[39;49m\u001b[43mfaithful_representation\u001b[49m\n\u001b[1;32m    187\u001b[0m left_coset_sub_group \u001b[38;5;241m=\u001b[39m [[full_group_faithful_rep\u001b[38;5;241m.\u001b[39mindex(R_row \u001b[38;5;241m*\u001b[39m R_sg) \u001b[38;5;28;01mfor\u001b[39;00m R_sg \u001b[38;5;129;01min\u001b[39;00m sub_group_in_full_group] \u001b[38;5;28;01mfor\u001b[39;00m\n\u001b[1;32m    188\u001b[0m                         R_row \u001b[38;5;129;01min\u001b[39;00m coset_reps_f]\n\u001b[1;32m    189\u001b[0m right_coset_full_group \u001b[38;5;241m=\u001b[39m [[full_group_faithful_rep\u001b[38;5;241m.\u001b[39mindex(R \u001b[38;5;241m*\u001b[39m R_col) \u001b[38;5;28;01mfor\u001b[39;00m R \u001b[38;5;129;01min\u001b[39;00m full_group_faithful_rep] \u001b[38;5;28;01mfor\u001b[39;00m R_col\n\u001b[1;32m    190\u001b[0m                           \u001b[38;5;129;01min\u001b[39;00m coset_reps_f]\n",
      "\u001b[0;31mAttributeError\u001b[0m: 'list' object has no attribute 'faithful_representation'"
     ]
    }
   ],
   "source": [
    "generate_band_representation(graphene_con, \n",
    "                             group_of_k=GroupD6D3hC6v(name='d3h', edge_x_orientation=True), \n",
    "                             coset_reps_of_group_of_k_syms=['E', 'I']\n",
    "                            )"
   ]
  },
  {
   "cell_type": "code",
   "execution_count": null,
   "id": "9b7a8349-a63e-4735-b540-0bf8566f8580",
   "metadata": {},
   "outputs": [],
   "source": [
    "# % R is element of co-group of k \n",
    "# % Rt is element of site symmetry group\n",
    "# % R_alpha, R_alphap = coset reps \n",
    "# % alpha  = row\n",
    "# % alphap = col\n",
    "# %\n",
    "# % Relationship between R and Rt\n",
    "# % R*R_alpha = R_alphap*Rt\n",
    "# % \n",
    "# % 1. Find R_alphat*Rt -> left_coset_Gt_2c \n",
    "# % 2. Find R*R_alpha   -> Gk_k_c2_2c (k=K,G,M)\n",
    "# % 3. 1.=2. => find 2. in 1. \n",
    "# %             to find which alpha gives alpha_p -> rr_k (k=K,G,M)"
   ]
  },
  {
   "cell_type": "code",
   "execution_count": null,
   "id": "2fb56363-6946-4c6e-8a26-5864a5d47dbc",
   "metadata": {},
   "outputs": [],
   "source": [
    "def ismember(a, b):\n",
    "    \"\"\"\n",
    "    Replicates MATLAB's ismember for 2D arrays using NumPy.\n",
    "    \n",
    "    Parameters\n",
    "    ----------\n",
    "    a : np.ndarray\n",
    "        Array of elements to test.\n",
    "    b : np.ndarray\n",
    "        Array in which to look for elements of a.\n",
    "    \n",
    "    Returns\n",
    "    -------\n",
    "    rows : np.ndarray\n",
    "        Row indices in `b` where elements of `a` are found.\n",
    "    cols : np.ndarray\n",
    "        Column indices in `b` where elements of `a` are found.\n",
    "    mask : np.ndarray\n",
    "        Boolean array, same shape as `a`, True if element is in `b`.\n",
    "    \"\"\"\n",
    "    a = np.asarray(a)\n",
    "    b = np.asarray(b)\n",
    "\n",
    "    # flatten b for search\n",
    "    b_flat = b.ravel()\n",
    "\n",
    "    # searchsorted trick (works like MATLAB ismember)\n",
    "    sorter = np.argsort(b_flat)\n",
    "    idx = sorter[np.searchsorted(b_flat, a.ravel(), sorter=sorter)]\n",
    "\n",
    "    # check membership\n",
    "    mask = b_flat[idx] == a.ravel()\n",
    "\n",
    "    # get row and col indices\n",
    "    rows, cols = np.unravel_index(idx, b.shape)\n",
    "\n",
    "    # mask non-members\n",
    "    rows = np.where(mask, rows, -1)\n",
    "    cols = np.where(mask, cols, -1)\n",
    "\n",
    "    return rows.reshape(a.shape), cols.reshape(a.shape)\n",
    "\n",
    "\n",
    "\n",
    "def full_group_to_subgroup_mapping(full_group: GroupD6h, sub_group: GroupD6D3hC6v, coset_reps_syms: list[str]):\n",
    "    \n",
    "    full_group_faithful_rep = full_group.faithful_representation()\n",
    "    sub_group_faithful_rep = sub_group.faithful_representation()\n",
    "\n",
    "    sub_group_index_in_full_group = [full_group_faithful_rep.index(x) for x in sub_group_faithful_rep]\n",
    "    sub_group_in_full_group = [full_group_faithful_rep[i] for i in sub_group_index_in_full_group]\n",
    "\n",
    "    coset_reps_idx = [full_group.elements.index(x) for x in coset_reps_syms]\n",
    "    coset_reps = [full_group_faithful_rep[i] for i in coset_reps_idx]\n",
    "    \n",
    "\n",
    "    left_coset_sub_group = [[full_group_faithful_rep.index(R_row * R_sg) for R_sg in sub_group_in_full_group] for R_row in coset_reps]\n",
    "    right_coset_full_group = [[full_group_faithful_rep.index(R * R_col) for R in full_group_faithful_rep] for R_col in coset_reps]\n",
    "\n",
    "    coset_pairs_mapping, element_mapping = ismember(right_coset_full_group, left_coset_sub_group)\n",
    "\n",
    "    return coset_pairs_mapping, np.array(sub_group_index_in_full_group)[element_mapping]\n",
    "\n",
    "# --- helpers to get/set blocks ---\n",
    "def get_block(M, i, j, block_size):\n",
    "    a = block_size\n",
    "    return M[i*a:(i+1)*a, j*a:(j+1)*a]\n",
    "\n",
    "def set_block(M, i, j, block, block_size):\n",
    "    a = block_size\n",
    "    if block.shape != (a, a):\n",
    "        raise ValueError(f\"block must be {a}x{a}, got {block.shape}\")\n",
    "    M[i*a:(i+1)*a, j*a:(j+1)*a] = block\n",
    "\n",
    "def generate_site_orbital_representation(self, ssg_coset_mapping: np.ndarray, ssg_element_mapping: np.ndarray, orbital_irrep):\n",
    "\n",
    "    d_G = len(self.group.faithful_representation())\n",
    "    m_tau = ssg_coset_mapping.shape[0]\n",
    "    d_mu = orbital_irrep[0].shape[0] if isinstance(orbital_irrep[0], sp.MatrixBase) else 1\n",
    "\n",
    "    d_H = m_tau * d_mu \n",
    "    \n",
    "    site_orbital_rep = []\n",
    "    for R in range(d_G):\n",
    "        H = sp.MutableDenseMatrix.zeros(m_tau * d_mu, m_tau * d_mu)\n",
    "        for t_bra in range(m_tau):\n",
    "    \n",
    "            t_ket = ssg_coset_mapping[t_bra, R]\n",
    "            element_in_ssg = ssg_element_mapping[t_bra, R]\n",
    "            orbital_rep = orbital_irrep[element_in_ssg]\n",
    "            orbital_rep = orbital_rep if isinstance(orbital_rep, sp.MatrixBase) else sp.Matrix([orbital_rep])\n",
    "\n",
    "            set_block(H, t_bra, t_ket, orbital_rep, orbital_rep.shape[0])\n",
    "\n",
    "        site_orbital_rep.append(H)\n",
    "\n",
    "    return site_orbital_rep\n",
    "\n",
    "\n",
    "# def generate_shell_vectors(self: GrapheneHamiltonian, lattice_range=(-1, 1, 1)):\n",
    "#     \"\"\"\n",
    "#     Generate shell vectors sorted by ascending |rho|.\n",
    "\n",
    "#     Returns\n",
    "#     -------\n",
    "#     shell_vectors : dict\n",
    "#         Keys: (cr_bra, cr_ket)\n",
    "#         Values: OrderedDict with keys = (n1,n2,n3),\n",
    "#                 values = rho (sympy.Matrix),\n",
    "#                 insertion order = ascending |rho|.\n",
    "#     \"\"\"\n",
    "#     shell_vectors = {}\n",
    "\n",
    "#     for cr_bra, tau_bra in self.tau_vectors.items():\n",
    "#         for cr_ket, tau_ket in self.tau_vectors.items():\n",
    "#             entries = []\n",
    "#             for n1 in range(*lattice_range):\n",
    "#                 for n2 in range(*lattice_range):\n",
    "#                     for n3 in range(*lattice_range):\n",
    "#                         rho = tau_ket - tau_bra + self.lattice.get_lattice_vector(n=[n1, n2, n3])\n",
    "#                         norm2 = (rho.T * rho)[0]   # squared magnitude\n",
    "#                         entries.append(((n1, n2, n3), rho, norm2))\n",
    "\n",
    "#             # sort by norm^2, then lexicographically by vector for stability\n",
    "#             entries.sort(key=lambda item: (sp.nsimplify(item[2]), tuple(item[1])))\n",
    "\n",
    "#             # rebuild as OrderedDict to keep the sorted order\n",
    "#             tau_braket = OrderedDict(((n, rho) for n, rho, _ in entries))\n",
    "#             shell_vectors[(cr_bra, cr_ket)] = tau_braket\n",
    "\n",
    "#     return shell_vectors\n",
    "    \n",
    "    \n",
    "\n",
    "    \n",
    "def generate_shell_vectors(self, shell_number: int, t_bra: int, t_ket:int):\n",
    "    \"\"\"\n",
    "    t_bra/t_ket defines between what two wyckoff positions we want the shell vector for\n",
    "\n",
    "    pass as integer which corresponds to the coset rep wrt ssg \n",
    "    \"\"\"\n",
    "\n",
    "    xyz_full_group = self.group.xyz_representation()\n",
    "\n",
    "    def unique_matrices(mats):\n",
    "        # convert each Matrix to a tuple of its entries\n",
    "        seen = set()\n",
    "        uniq = []\n",
    "        for m in mats:\n",
    "            key = tuple(sp.simplify(x) for x in m)  # ensures (x, y, z) tuple\n",
    "            if key not in seen:\n",
    "                seen.add(key)\n",
    "                uniq.append(m)\n",
    "        return uniq\n",
    "    \n",
    "    if shell_number == 0:\n",
    "        shell_n = [0, 0, 0]\n",
    "        tau_ket_loc = self.tau_vectors[t_ket]\n",
    "        tau_bra_loc = self.tau_vectors[t_ket]\n",
    "    \n",
    "    elif shell_number == 1:\n",
    "        shell_n = [0, 0, 0]\n",
    "        tau_ket_loc = self.tau_vectors[t_ket]\n",
    "        tau_bra_loc = self.tau_vectors[t_bra]\n",
    "\n",
    "    elif shell_number == 2:\n",
    "        shell_n = [1, 0, 0]\n",
    "        tau_ket_loc = self.tau_vectors[t_ket]\n",
    "        tau_bra_loc = self.tau_vectors[t_ket]\n",
    "    else:\n",
    "        raise NotImplementedError('shell number not implemented')\n",
    "    \n",
    "    rho = tau_ket_loc - tau_bra_loc + self.lattice.get_lattice_vector(n=shell_n)\n",
    "\n",
    "    R_on_rho = [R_xyz * rho for R_xyz in xyz_full_group]\n",
    "    shell_vectors = unique_matrices(R_on_rho)\n",
    "    \n",
    "\n",
    "    return shell_vectors\n",
    "\n",
    "def permutation_representation(p):\n",
    "    P = sp.zeros(len(p))\n",
    "    for i, j in enumerate(p):\n",
    "        P[j, i] = 1\n",
    "    return P\n",
    "\n",
    "def generate_shell_representation(self, shell_number: int):\n",
    "    if shell_number == 0:\n",
    "        t_bra, t_ket = 0, 0 \n",
    "    elif shell_number == 1:\n",
    "        t_bra, t_ket = 0, 1\n",
    "    elif shell_number == 2:\n",
    "        t_bra, t_ket = 0, 0\n",
    "    else:\n",
    "        raise NotImplementedError('shell not implemented')\n",
    "        \n",
    "    shell_vectors = generate_shell_vectors(self, shell_number, t_bra=t_bra, t_ket=t_ket)\n",
    "    xyz_full_group = self.group.xyz_representation()\n",
    "\n",
    "    shell_vectors = generate_shell_vectors(self, shell_number, t_bra, t_ket)\n",
    "    permutations = np.array([[shell_vectors.index(R_xyz * rho) for R_xyz in xyz_full_group] for rho in shell_vectors]).T\n",
    "    permutation_rep = [permutation_representation(p) for p in permutations]\n",
    "    \n",
    "    return permutation_rep\n",
    "\n",
    "def projection_operator(self, shell_representation, site_orbital_representation_bra, site_orbital_representation_ket, location_trial: list[dict] | dict | None = None):\n",
    "\n",
    "    from utility_functions import tensor\n",
    "    d_rho = shell_representation[0].shape[0]\n",
    "    bra_orb = [R.conjugate() for R in site_orbital_representation_bra]\n",
    "    ket_orb = site_orbital_representation_ket\n",
    "    \n",
    "    projection_T = tensor(shell_representation, bra_orb, ket_orb)\n",
    "\n",
    "    projection_T = sp.Rational(1, len(ket_orb)/d_rho)*sum(projection_T, sp.Matrix.zeros(*projection_T[0].shape))\n",
    "\n",
    "    if location_trial:\n",
    "        n = projection_T.shape[0]\n",
    "        trial_vector = sp.Matrix.zeros(n, 1)\n",
    "        if not isinstance(location_trial, list):\n",
    "            location_trial = [location_trial]\n",
    "        print(trial_vector)\n",
    "        for loc, val in location_trial.items():\n",
    "            trial_vector[sum(loc)] = val\n",
    "        print(trial_vector)\n",
    "        d_rho = shell_representation[0].shape[0]\n",
    "        d_ket = ket_orb[0].shape[0]\n",
    "        result = self.project_invariant_hamiltonian(projection_T, trial_vector, d_rho=d_rho, d_ket=d_ket)\n",
    "        return result\n",
    "    else:\n",
    "        return projection_T\n",
    "        \n",
    "def project_invariant_hamiltonian(self, projection_operator, trial_vector, d_rho, d_ket):\n",
    "\n",
    "    projected = (projection_operator * trial_vector).expand()\n",
    "    blocks = []\n",
    "    for i in range(d_rho):\n",
    "        start = i * d_ket * d_ket\n",
    "        end   = (i+1) * d_ket * d_ket\n",
    "        block_vec = projected[start:end, :]\n",
    "        block_mat = block_vec.reshape(d_ket, d_ket)   \n",
    "        blocks.append(block_mat)\n",
    "    return blocks\n",
    "    \n",
    "\n",
    "    \n",
    "\n",
    "    \n",
    "    \n",
    "\n",
    "    "
   ]
  },
  {
   "cell_type": "code",
   "execution_count": null,
   "id": "22195424-2edc-4777-94b5-b3a3e5ce0410",
   "metadata": {},
   "outputs": [],
   "source": [
    "graphene.group.xyz_representation()[0] * generate_shell_vectors(graphene, shell_number=1, t_bra=0, t_ket=1)[0]"
   ]
  },
  {
   "cell_type": "code",
   "execution_count": null,
   "id": "6a29535e-4179-4f3d-a017-e427f9c3d6ce",
   "metadata": {},
   "outputs": [],
   "source": [
    "graphene = GrapheneHamiltonian(with_spin=False)\n",
    "graphene.run_setup(wyckoff_position='2b')"
   ]
  },
  {
   "cell_type": "code",
   "execution_count": null,
   "id": "de822d40-9c55-44b7-b957-0c765937da4f",
   "metadata": {},
   "outputs": [],
   "source": [
    "shell_1 = generate_shell_vectors(graphene, shell_number=1, t_bra=0, t_ket=1)"
   ]
  },
  {
   "cell_type": "code",
   "execution_count": null,
   "id": "3036f3f4-60ca-49ae-bb83-b9bf9af90b2e",
   "metadata": {},
   "outputs": [],
   "source": [
    "shell_1"
   ]
  },
  {
   "cell_type": "code",
   "execution_count": null,
   "id": "e7578ddc-72d8-41df-acc1-e425ca1d7450",
   "metadata": {},
   "outputs": [],
   "source": [
    "shell_2 = generate_shell_vectors(graphene, shell_number=2, t_bra=0, t_ket=0)"
   ]
  },
  {
   "cell_type": "code",
   "execution_count": null,
   "id": "cfc38c78-2140-4aba-98c1-8e8fbdbf2f71",
   "metadata": {},
   "outputs": [],
   "source": [
    "shell_2"
   ]
  },
  {
   "cell_type": "code",
   "execution_count": null,
   "id": "b7a36f78-90dd-4155-afae-2c9054375842",
   "metadata": {},
   "outputs": [],
   "source": [
    "kx = sp.Symbol('k_x', real=True)\n",
    "ky = sp.Symbol('k_y', real=True)\n",
    "kz = sp.Symbol('k_z', real=True)\n",
    "k = [kx, ky, kz]\n",
    "q = sp.Symbol('q', real=True)\n",
    "k_point = [q * 4*sp.pi/(3*sp.sqrt(3)*graphene.lattice.a), 0]\n",
    "Kx = sp.Symbol('K_x', real=True)\n",
    "Ky = sp.Symbol('K_y', real=True)\n",
    "Kz = sp.Symbol('K_z', real=True)\n"
   ]
  },
  {
   "cell_type": "code",
   "execution_count": null,
   "id": "9e949b6b-1991-419a-915f-f421c2efce4d",
   "metadata": {},
   "outputs": [],
   "source": [
    "exp_k11 = sp.exp(sp.I*shell_1[0].dot(k)) + sp.exp(sp.I*shell_1[1].dot(k)) + sp.exp(sp.I*shell_1[2].dot(k))\n",
    "exp_k12 = sp.exp(sp.I*shell_1[3].dot(k)) + sp.exp(sp.I*shell_1[4].dot(k)) + sp.exp(sp.I*shell_1[5].dot(k))\n",
    "exp_k21 = [sp.exp(sp.I*i.dot(k)) for i in shell_2][0]\n",
    "exp_k22 = sp.exp(sp.I*shell_2[5].dot(k)) - sp.exp(sp.I*shell_2[2].dot(k)) + sp.exp(sp.I*shell_2[4].dot(k)) - sp.exp(sp.I*shell_2[0].dot(k)) + sp.exp(sp.I*shell_2[3].dot(k)) - sp.exp(sp.I*shell_2[1].dot(k))\n"
   ]
  },
  {
   "cell_type": "code",
   "execution_count": null,
   "id": "4ca77073-a6c3-47af-bc7a-753977273d65",
   "metadata": {},
   "outputs": [],
   "source": [
    "k_point"
   ]
  },
  {
   "cell_type": "code",
   "execution_count": null,
   "id": "1c693e61-893e-4501-8097-9f50939201b1",
   "metadata": {},
   "outputs": [],
   "source": [
    "exp_k11"
   ]
  },
  {
   "cell_type": "code",
   "execution_count": null,
   "id": "6eb27eea-d837-4dc3-8626-f97a011d59a6",
   "metadata": {},
   "outputs": [],
   "source": [
    "exp_k11.subs(kx, Kx + k_point[0]).subs(ky, Ky + k_point[1]).expand(complex=True).series(Kx, x0=0, n=2).removeO().series(Ky,x0=0, n=2).removeO().subs(q,1)"
   ]
  },
  {
   "cell_type": "code",
   "execution_count": null,
   "id": "1965349f-aa42-42cf-a74e-e79f4066ae99",
   "metadata": {},
   "outputs": [],
   "source": [
    "exp_k11.subs(kx, Kx + k_point[0]).subs(ky, Ky + k_point[1]).expand(complex=True).series(Kx, x0=0, n=2).removeO().series(Ky,x0=0, n=2).removeO().subs(q,-1)"
   ]
  },
  {
   "cell_type": "code",
   "execution_count": null,
   "id": "7fd17df0-0e9b-4334-8062-05d6abd245db",
   "metadata": {},
   "outputs": [],
   "source": [
    "exp_k12.subs(kx, Kx + k_point[0]).subs(ky, Ky + k_point[1]).expand(complex=True).series(Kx, x0=0, n=2).removeO().series(Ky,x0=0, n=2).removeO().subs(q,1)"
   ]
  },
  {
   "cell_type": "code",
   "execution_count": null,
   "id": "94ea3874-6fe2-484a-8b18-107b8ca293b4",
   "metadata": {},
   "outputs": [],
   "source": [
    "exp_k12.subs(kx, Kx + k_point[0]).subs(ky, Ky + k_point[1]).expand(complex=True).series(Kx, x0=0, n=2).removeO().series(Ky,x0=0, n=2).removeO().subs(q,-1)"
   ]
  },
  {
   "cell_type": "code",
   "execution_count": null,
   "id": "a4038e5a-c3ba-47f6-a1c0-cd20f872f987",
   "metadata": {},
   "outputs": [],
   "source": [
    "exp_k21.subs(kx, Kx + k_point[0]).subs(ky, Ky + k_point[1]).expand(complex=True).series(Kx, x0=0, n=1).removeO().series(Ky,x0=0, n=1).removeO().subs(q,1)"
   ]
  },
  {
   "cell_type": "code",
   "execution_count": null,
   "id": "be1724bf-821b-4f94-9220-b498098440c2",
   "metadata": {},
   "outputs": [],
   "source": [
    "exp_k21.subs(kx, Kx + k_point[0]).subs(ky, Ky + k_point[1]).expand(complex=True).series(Kx, x0=0, n=1).removeO().series(Ky,x0=0, n=1).removeO().subs(q,-1)"
   ]
  },
  {
   "cell_type": "code",
   "execution_count": null,
   "id": "1aac1ed3-8421-4da3-b11a-e2626a186d61",
   "metadata": {},
   "outputs": [],
   "source": [
    "exp_k22.subs(kx, Kx + k_point[0]).subs(ky, Ky + k_point[1]).expand(complex=True).series(Kx, x0=0, n=1).removeO().series(Ky,x0=0, n=1).removeO().subs(q,1)"
   ]
  },
  {
   "cell_type": "code",
   "execution_count": null,
   "id": "e4fec04a-ef8d-4ddd-a4d4-5d866913497e",
   "metadata": {},
   "outputs": [],
   "source": [
    "exp_k22.subs(kx, Kx + k_point[0]).subs(ky, Ky + k_point[1]).expand(complex=True).series(Kx, x0=0, n=1).removeO().series(Ky,x0=0, n=1).removeO().subs(q,-1)"
   ]
  },
  {
   "cell_type": "code",
   "execution_count": null,
   "id": "549d0679-263e-48b8-8256-4f2e4f7b26b0",
   "metadata": {},
   "outputs": [],
   "source": [
    "sp.Matrix([[0, 0, kx, 0],\n",
    "          [0, 0, 0, kx],\n",
    "          [kx,0, 0, 0],\n",
    "          [0, kx, 0, 0]]\n",
    "         )"
   ]
  },
  {
   "cell_type": "code",
   "execution_count": null,
   "id": "058e134a-5e83-4c5f-94c4-beec11e150cb",
   "metadata": {},
   "outputs": [],
   "source": [
    "sp.kronecker_product(sp.physics.matrices.msigma(1), sp.eye(2))"
   ]
  },
  {
   "cell_type": "code",
   "execution_count": null,
   "id": "9bd821cb-6a4d-4726-b905-ee4e02468168",
   "metadata": {},
   "outputs": [],
   "source": [
    "sp.expand(exp_k11[0], complex=True).series(kx, x0=k_point, n=2).removeO().series(ky,x0=k_point, n=1).removeO()"
   ]
  },
  {
   "cell_type": "code",
   "execution_count": null,
   "id": "d929319f-cde9-42cd-a7cb-c46ba595c1f5",
   "metadata": {},
   "outputs": [],
   "source": [
    "sp.expand(exp_k12[0], complex=True).series(kx, n=2).removeO().series(ky, n=2).removeO()"
   ]
  },
  {
   "cell_type": "code",
   "execution_count": null,
   "id": "b3792f4e-638c-40e9-a773-745f210ce799",
   "metadata": {},
   "outputs": [],
   "source": [
    "from utility_functions import direct_sum, is_faithful\n",
    "for i in range(1,7):\n",
    "    for n in ['p', 'm']:\n",
    "        for j in range(1, 7):\n",
    "            for m in ['p', 'm']:\n",
    "                 if is_faithful(direct_sum(graphene.group.irreducible_representations[f'g{i}{n}'], graphene.group.irreducible_representations[f'g{j}{m}'])):\n",
    "                     print(f'g{i}{n}, g{j}{m}')"
   ]
  },
  {
   "cell_type": "code",
   "execution_count": null,
   "id": "64473b0f-d5d9-4ed3-9185-30778ccf01ad",
   "metadata": {},
   "outputs": [],
   "source": [
    "graphene = GrapheneHamiltonian(with_spin=False)\n",
    "graphene.run_setup(wyckoff_position='2b')"
   ]
  },
  {
   "cell_type": "code",
   "execution_count": null,
   "id": "d5e836a7-1649-4e82-85e0-1266bb922eb2",
   "metadata": {},
   "outputs": [],
   "source": [
    "\n",
    "shell_0 = generate_shell_representation(graphene, shell_number=0)\n",
    "shell_1 = generate_shell_representation(graphene, shell_number=1)\n",
    "shell_2 = generate_shell_representation(graphene, shell_number=2)\n",
    "\n",
    "coset_pairs, elem_map = graphene.full_group_to_subgroup_mapping(graphene.site_symmetry_group)\n",
    "\n",
    "bra_site_orb = generate_site_orbital_representation(graphene, coset_pairs, elem_map, graphene.group.irreducible_representations['g4m'])\n",
    "ket_site_orb = generate_site_orbital_representation(graphene, coset_pairs, elem_map, graphene.group.irreducible_representations['g4m'])\n",
    "\n"
   ]
  },
  {
   "cell_type": "code",
   "execution_count": null,
   "id": "814b5f2e-b16d-4937-9869-06bb223c2dae",
   "metadata": {},
   "outputs": [],
   "source": [
    "projection_operator(graphene, shell_0, bra_site_orb, ket_site_orb, location_trial={(0,0,0): 2})"
   ]
  },
  {
   "cell_type": "code",
   "execution_count": null,
   "id": "c5e63cd2-b7d6-470a-a9f9-5e7f19eb87d1",
   "metadata": {},
   "outputs": [],
   "source": [
    "proj_op = graphene.construct_projection_operator(shell_number=0, bra_orbital_irrep_name='g4m', ket_orbital_irrep_name='g4m')\n",
    "\n",
    "n = proj_op.shape[0]          \n",
    "        \n",
    "e = sp.Matrix.zeros(n, 1)  # n×1 zero column vector\n"
   ]
  },
  {
   "cell_type": "code",
   "execution_count": null,
   "id": "267824fc-55d5-4401-bf38-e28b7c61aed2",
   "metadata": {},
   "outputs": [],
   "source": [
    "(proj_op * e).expand()"
   ]
  },
  {
   "cell_type": "code",
   "execution_count": null,
   "id": "0433f7ab-029f-4347-988d-c46d8ad6d1bf",
   "metadata": {},
   "outputs": [],
   "source": [
    "graphene = GrapheneHamiltonian(with_spin=False)\n",
    "graphene.run_setup(wyckoff_position='2b')\n",
    "graphene.generate_invariant_form(\n",
    "    shell_number=1, \n",
    "    bra_orbital_irrep_name='g4m', \n",
    "    ket_orbital_irrep_name='g4m', \n",
    "    location_trial={(0,0,0): 1}\n",
    ")"
   ]
  },
  {
   "cell_type": "code",
   "execution_count": null,
   "id": "71cd9881-7cf7-49d8-a8af-48110487b701",
   "metadata": {},
   "outputs": [],
   "source": [
    "(0, 0, 2)"
   ]
  },
  {
   "cell_type": "code",
   "execution_count": null,
   "id": "4cb8b852-aa5c-4463-8a0c-314f0d22e22e",
   "metadata": {},
   "outputs": [],
   "source": []
  },
  {
   "cell_type": "code",
   "execution_count": null,
   "id": "b0448e80-1ab1-47cb-bf67-2175c59c547b",
   "metadata": {},
   "outputs": [],
   "source": [
    "shell_2[0]"
   ]
  },
  {
   "cell_type": "code",
   "execution_count": null,
   "id": "6f8df240-d124-4f7d-9a58-81fd7f348395",
   "metadata": {},
   "outputs": [],
   "source": [
    "for r_ssg in graphene.site_symmetry_group.faithful_representation():\n",
    "    for i_f, (name, r_f) in enumerate(zip(graphene.group.elements, graphene.group.faithful_representation())):\n",
    "        if r_ssg == r_f:\n",
    "            print(name, i_f)"
   ]
  },
  {
   "cell_type": "code",
   "execution_count": null,
   "id": "a7e3703e-2391-4545-bc89-d3aadd4e1940",
   "metadata": {},
   "outputs": [],
   "source": [
    "[graphene.group.faithful_representation().index(x) for x in graphene.site_symmetry_group.faithful_representation()]"
   ]
  },
  {
   "cell_type": "code",
   "execution_count": null,
   "id": "4496bb65-6e6b-4008-b892-f3c7b950bad7",
   "metadata": {},
   "outputs": [],
   "source": [
    "sp.kronecker_product(sp.physics.matrices.msigma(3), sp.physics.matrices.msigma(3))"
   ]
  },
  {
   "cell_type": "code",
   "execution_count": null,
   "id": "18630062-37ed-4319-8482-1f63c7e52932",
   "metadata": {},
   "outputs": [],
   "source": [
    "sp.physics.matrices.msigma(2)"
   ]
  },
  {
   "cell_type": "code",
   "execution_count": null,
   "id": "7de47312-6d5d-4a2a-bed6-77824a73ac9a",
   "metadata": {},
   "outputs": [],
   "source": []
  },
  {
   "cell_type": "code",
   "execution_count": null,
   "id": "89eaa6c9-1bc3-473a-96f6-d761a1425532",
   "metadata": {},
   "outputs": [],
   "source": []
  },
  {
   "cell_type": "code",
   "execution_count": null,
   "id": "23bec4e6-7998-430c-9204-08b079f346f9",
   "metadata": {},
   "outputs": [],
   "source": [
    "graphene.lattice.a"
   ]
  },
  {
   "cell_type": "code",
   "execution_count": null,
   "id": "11c5b9b6-4fc5-445f-ab06-7011f449cc04",
   "metadata": {},
   "outputs": [],
   "source": []
  },
  {
   "cell_type": "code",
   "execution_count": null,
   "id": "b18af2b0-c2bb-4a86-87bd-252e5dd5296c",
   "metadata": {},
   "outputs": [],
   "source": []
  },
  {
   "cell_type": "code",
   "execution_count": null,
   "id": "65933f62-047a-4591-a32e-a74555e7c9ac",
   "metadata": {},
   "outputs": [],
   "source": []
  },
  {
   "cell_type": "code",
   "execution_count": null,
   "id": "4d400dcc-e5cb-4974-b7c2-da860c8f6ddb",
   "metadata": {},
   "outputs": [],
   "source": [
    "elem_map"
   ]
  },
  {
   "cell_type": "code",
   "execution_count": null,
   "id": "85cba118-06f4-42a2-a8ae-a457d6447e5e",
   "metadata": {},
   "outputs": [],
   "source": [
    "# site_orbital_representation(graphene, coset_pairs, elem_map, graphene.group.irreducible_representations['g7p'])"
   ]
  },
  {
   "cell_type": "code",
   "execution_count": null,
   "id": "18c15827-77ee-4fcd-9d05-fb0589881017",
   "metadata": {},
   "outputs": [],
   "source": []
  },
  {
   "cell_type": "code",
   "execution_count": null,
   "id": "2f662ace-8ea4-4fa1-b27c-bf6a7fe50218",
   "metadata": {},
   "outputs": [],
   "source": []
  },
  {
   "cell_type": "code",
   "execution_count": null,
   "id": "f976dab6-2f17-439b-b179-d2f362739d17",
   "metadata": {},
   "outputs": [],
   "source": []
  },
  {
   "cell_type": "code",
   "execution_count": null,
   "id": "ce293c1a-d1f1-4abb-a527-bddf87a34468",
   "metadata": {},
   "outputs": [],
   "source": []
  },
  {
   "cell_type": "code",
   "execution_count": null,
   "id": "f6fe05b8-cfc0-49b8-86f6-885cb3eba4f6",
   "metadata": {},
   "outputs": [],
   "source": []
  },
  {
   "cell_type": "code",
   "execution_count": null,
   "id": "fdb94cf2-dc64-49a0-89bb-1d057cf3da55",
   "metadata": {
    "scrolled": true
   },
   "outputs": [],
   "source": []
  },
  {
   "cell_type": "code",
   "execution_count": null,
   "id": "9ec3c7f7-a39f-47cc-b929-e6bf43cc8602",
   "metadata": {},
   "outputs": [],
   "source": [
    "F_faithful = graphene.group.faithful_representation()\n",
    "ssg_faithful = graphene.site_symmetry_group.faithful_representation()\n",
    "gk_faithful = GroupD6D3hC6v(name='d3h', edge_x_orientation=True, is_double_group=True).faithful_representation()\n"
   ]
  },
  {
   "cell_type": "code",
   "execution_count": null,
   "id": "c6f20fa2-131b-4186-84c2-c2a6e1026e81",
   "metadata": {},
   "outputs": [],
   "source": [
    "np.asarray([graphene.lattice.a1, graphene.lattice.a2, graphene.lattice.a3], dtype=float)"
   ]
  },
  {
   "cell_type": "code",
   "execution_count": null,
   "id": "59212f59-9bae-4bbf-bb0c-c0271d292d3c",
   "metadata": {},
   "outputs": [],
   "source": []
  },
  {
   "cell_type": "code",
   "execution_count": null,
   "id": "771b60ce-aed0-4f30-9806-afb83777aff6",
   "metadata": {},
   "outputs": [],
   "source": [
    "sorted([graphene.group.elements[i] for i in [F_faithful.index(a) for a in ssg_faithful]])"
   ]
  },
  {
   "cell_type": "code",
   "execution_count": null,
   "id": "b59d3e1d-83bf-4dae-a885-d2232aeb7ea9",
   "metadata": {},
   "outputs": [],
   "source": []
  },
  {
   "cell_type": "code",
   "execution_count": null,
   "id": "e94056da-184e-41ea-9b56-fa94165e8345",
   "metadata": {},
   "outputs": [],
   "source": []
  },
  {
   "cell_type": "code",
   "execution_count": null,
   "id": "5d403ffe-6d0b-4848-927c-0dc4ad86f3a6",
   "metadata": {},
   "outputs": [],
   "source": []
  },
  {
   "cell_type": "code",
   "execution_count": null,
   "id": "29bfa43f-c01a-4308-acde-9664f3d1c6c1",
   "metadata": {},
   "outputs": [],
   "source": [
    "[(i,j) for i,j in zip([F_faithful[key] for key in ssg_faithful.keys()], ssg_faithful.values())][6:11]"
   ]
  },
  {
   "cell_type": "code",
   "execution_count": null,
   "id": "693095c0-8546-4b88-a319-30242dbc3e09",
   "metadata": {},
   "outputs": [],
   "source": [
    "print({name: r for name, r in zip(graphene.group.elements, graphene.group.faithful_representation())}['I'])"
   ]
  },
  {
   "cell_type": "code",
   "execution_count": null,
   "id": "2e653c9c-f4f6-478f-80b9-927c2eb6782f",
   "metadata": {},
   "outputs": [],
   "source": [
    "np.array(graphene.group.elements)[mapping[(0,1)]]"
   ]
  },
  {
   "cell_type": "code",
   "execution_count": null,
   "id": "39733629-ad01-44dd-aa9a-837cb41355df",
   "metadata": {},
   "outputs": [],
   "source": []
  },
  {
   "cell_type": "code",
   "execution_count": null,
   "id": "f78fd460-f248-417c-b427-f1ce38143432",
   "metadata": {},
   "outputs": [],
   "source": []
  },
  {
   "cell_type": "code",
   "execution_count": null,
   "id": "ca592823-c4bd-493c-a9d4-cbf44aef3232",
   "metadata": {},
   "outputs": [],
   "source": [
    "graphene.site_symmetry_group.elements"
   ]
  },
  {
   "cell_type": "code",
   "execution_count": null,
   "id": "474917b9-9ed1-478d-b8f9-7f02c1750334",
   "metadata": {},
   "outputs": [],
   "source": [
    "graphene.tau_vectors"
   ]
  },
  {
   "cell_type": "code",
   "execution_count": null,
   "id": "a41f8b89-ef5c-4b11-9bfc-1b64657b5529",
   "metadata": {},
   "outputs": [],
   "source": [
    "mapping[(0,0)]"
   ]
  },
  {
   "cell_type": "code",
   "execution_count": null,
   "id": "9905d6e5-dbb4-45db-a84b-1ef86a85b568",
   "metadata": {},
   "outputs": [],
   "source": [
    "len(graphene.group.elements)"
   ]
  },
  {
   "cell_type": "code",
   "execution_count": null,
   "id": "b6fcabd2-24d3-4ff2-bc7b-03e560000f65",
   "metadata": {},
   "outputs": [],
   "source": [
    "sp.Matrix([[1,0], [0,1]]).shape"
   ]
  },
  {
   "cell_type": "code",
   "execution_count": null,
   "id": "18c51dbd-9474-403d-b433-fc566edf69ee",
   "metadata": {},
   "outputs": [],
   "source": [
    "np.sort(np.array(graphene.group.elements)[mapping[(0,0)]])"
   ]
  },
  {
   "cell_type": "code",
   "execution_count": null,
   "id": "f9044896-7ae4-446d-a141-1ae69b487042",
   "metadata": {},
   "outputs": [],
   "source": [
    "np.sort(np.array(graphene.site_symmetry_group.elements))"
   ]
  },
  {
   "cell_type": "code",
   "execution_count": null,
   "id": "7167a321-8398-4615-97a7-8325afc26cd7",
   "metadata": {},
   "outputs": [],
   "source": [
    "np.array(self.group.faithful_representation())[coset_rep_idx][0]"
   ]
  },
  {
   "cell_type": "code",
   "execution_count": null,
   "id": "7b225540-d04c-412d-92c7-ac6709e57bca",
   "metadata": {},
   "outputs": [],
   "source": [
    "site_orbital_representation(graphene)"
   ]
  },
  {
   "cell_type": "code",
   "execution_count": null,
   "id": "b9a5db05-611f-447c-9d1b-5a26a38dd147",
   "metadata": {},
   "outputs": [],
   "source": [
    "graphene.lattice.get_lattice_vector(n=[1,0,0])"
   ]
  },
  {
   "cell_type": "code",
   "execution_count": null,
   "id": "26784224-d1a6-41eb-9f56-3a3b2c76853a",
   "metadata": {},
   "outputs": [],
   "source": [
    "orb_rep = graphene.site_orbital_representation()"
   ]
  },
  {
   "cell_type": "code",
   "execution_count": null,
   "id": "0deb2da7-d912-4ffa-a4a2-c6c35ab38860",
   "metadata": {},
   "outputs": [],
   "source": [
    "orb_rep[:10]"
   ]
  },
  {
   "cell_type": "code",
   "execution_count": null,
   "id": "c6562c87-2aa9-476c-b755-bfc34dbdd8e8",
   "metadata": {},
   "outputs": [],
   "source": []
  }
 ],
 "metadata": {
  "kernelspec": {
   "display_name": "method_of_invariant",
   "language": "python",
   "name": "method_of_invariant"
  },
  "language_info": {
   "codemirror_mode": {
    "name": "ipython",
    "version": 3
   },
   "file_extension": ".py",
   "mimetype": "text/x-python",
   "name": "python",
   "nbconvert_exporter": "python",
   "pygments_lexer": "ipython3",
   "version": "3.11.10"
  }
 },
 "nbformat": 4,
 "nbformat_minor": 5
}
