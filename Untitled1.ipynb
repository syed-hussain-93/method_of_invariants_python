{
 "cells": [
  {
   "cell_type": "code",
   "execution_count": 3,
   "id": "a996f4c8-b310-4f0f-8bda-c5c091f715cf",
   "metadata": {},
   "outputs": [
    {
     "name": "stdout",
     "output_type": "stream",
     "text": [
      "Order of D4: 8\n",
      "\n",
      "Number of irreducible representations: 5\n"
     ]
    },
    {
     "ename": "RuntimeError",
     "evalue": "Gap produced error output\nError, Variable: 'DimensionOfRepresentation' must have a value\n\n   executing DimensionOfRepresentation(irr[1]);",
     "output_type": "error",
     "traceback": [
      "\u001b[0;31m---------------------------------------------------------------------------\u001b[0m",
      "\u001b[0;31mRuntimeError\u001b[0m                              Traceback (most recent call last)",
      "File \u001b[0;32m~/miniforge3/envs/sage/lib/python3.12/site-packages/sage/interfaces/gap.py:697\u001b[0m, in \u001b[0;36mGap_generic._eval_line\u001b[0;34m(self, line, allow_use_file, wait_for_prompt, restart_if_needed)\u001b[0m\n\u001b[1;32m    696\u001b[0m     error \u001b[38;5;241m=\u001b[39m error\u001b[38;5;241m.\u001b[39mreplace(\u001b[38;5;124m'\u001b[39m\u001b[38;5;130;01m\\r\u001b[39;00m\u001b[38;5;124m'\u001b[39m, \u001b[38;5;124m'\u001b[39m\u001b[38;5;124m'\u001b[39m)\n\u001b[0;32m--> 697\u001b[0m     \u001b[38;5;28;01mraise\u001b[39;00m \u001b[38;5;167;01mRuntimeError\u001b[39;00m(\u001b[38;5;124m\"\u001b[39m\u001b[38;5;132;01m%s\u001b[39;00m\u001b[38;5;124m produced error output\u001b[39m\u001b[38;5;130;01m\\n\u001b[39;00m\u001b[38;5;132;01m%s\u001b[39;00m\u001b[38;5;130;01m\\n\u001b[39;00m\u001b[38;5;124m   executing \u001b[39m\u001b[38;5;132;01m%s\u001b[39;00m\u001b[38;5;124m\"\u001b[39m \u001b[38;5;241m%\u001b[39m (\u001b[38;5;28mself\u001b[39m, error, line))\n\u001b[1;32m    698\u001b[0m \u001b[38;5;28;01mif\u001b[39;00m \u001b[38;5;129;01mnot\u001b[39;00m normal:\n",
      "\u001b[0;31mRuntimeError\u001b[0m: Gap produced error output\nError, Variable: 'DimensionOfRepresentation' must have a value\n\n   executing DimensionOfRepresentation(irr[1]);",
      "\nDuring handling of the above exception, another exception occurred:\n",
      "\u001b[0;31mRuntimeError\u001b[0m                              Traceback (most recent call last)",
      "Cell \u001b[0;32mIn[3], line 18\u001b[0m\n\u001b[1;32m     16\u001b[0m \u001b[38;5;66;03m# Print details for each irrep\u001b[39;00m\n\u001b[1;32m     17\u001b[0m \u001b[38;5;28;01mfor\u001b[39;00m i \u001b[38;5;129;01min\u001b[39;00m \u001b[38;5;28mrange\u001b[39m(Integer(\u001b[38;5;241m1\u001b[39m), num_irr \u001b[38;5;241m+\u001b[39m Integer(\u001b[38;5;241m1\u001b[39m)):\n\u001b[0;32m---> 18\u001b[0m     dim \u001b[38;5;241m=\u001b[39m \u001b[38;5;28mint\u001b[39m(\u001b[43mgap\u001b[49m\u001b[38;5;241;43m.\u001b[39;49m\u001b[43meval\u001b[49m\u001b[43m(\u001b[49m\u001b[38;5;124;43mf\u001b[39;49m\u001b[38;5;124;43m\"\u001b[39;49m\u001b[38;5;124;43mDimensionOfRepresentation(irr[\u001b[39;49m\u001b[38;5;132;43;01m{\u001b[39;49;00m\u001b[43mi\u001b[49m\u001b[38;5;132;43;01m}\u001b[39;49;00m\u001b[38;5;124;43m]);\u001b[39;49m\u001b[38;5;124;43m\"\u001b[39;49m\u001b[43m)\u001b[49m)\n\u001b[1;32m     19\u001b[0m     \u001b[38;5;28mprint\u001b[39m(\u001b[38;5;124mf\u001b[39m\u001b[38;5;124m\"\u001b[39m\u001b[38;5;130;01m\\n\u001b[39;00m\u001b[38;5;124mIrreducible representation \u001b[39m\u001b[38;5;132;01m{\u001b[39;00mi\u001b[38;5;132;01m}\u001b[39;00m\u001b[38;5;124m:\u001b[39m\u001b[38;5;124m\"\u001b[39m)\n\u001b[1;32m     20\u001b[0m     \u001b[38;5;28mprint\u001b[39m(\u001b[38;5;124mf\u001b[39m\u001b[38;5;124m\"\u001b[39m\u001b[38;5;124mDimension: \u001b[39m\u001b[38;5;132;01m{\u001b[39;00mdim\u001b[38;5;132;01m}\u001b[39;00m\u001b[38;5;124m\"\u001b[39m)\n",
      "File \u001b[0;32m~/miniforge3/envs/sage/lib/python3.12/site-packages/sage/interfaces/gap.py:522\u001b[0m, in \u001b[0;36mGap_generic.eval\u001b[0;34m(self, x, newlines, strip, split_lines, **kwds)\u001b[0m\n\u001b[1;32m    520\u001b[0m     \u001b[38;5;28;01mif\u001b[39;00m \u001b[38;5;129;01mnot\u001b[39;00m input_line\u001b[38;5;241m.\u001b[39mendswith(\u001b[38;5;124m'\u001b[39m\u001b[38;5;124m;\u001b[39m\u001b[38;5;124m'\u001b[39m):\n\u001b[1;32m    521\u001b[0m         input_line \u001b[38;5;241m+\u001b[39m\u001b[38;5;241m=\u001b[39m \u001b[38;5;124m'\u001b[39m\u001b[38;5;124m;\u001b[39m\u001b[38;5;124m'\u001b[39m\n\u001b[0;32m--> 522\u001b[0m result \u001b[38;5;241m=\u001b[39m \u001b[43mExpect\u001b[49m\u001b[38;5;241;43m.\u001b[39;49m\u001b[43meval\u001b[49m\u001b[43m(\u001b[49m\u001b[38;5;28;43mself\u001b[39;49m\u001b[43m,\u001b[49m\u001b[43m \u001b[49m\u001b[43minput_line\u001b[49m\u001b[43m,\u001b[49m\u001b[43m \u001b[49m\u001b[38;5;241;43m*\u001b[39;49m\u001b[38;5;241;43m*\u001b[39;49m\u001b[43mkwds\u001b[49m\u001b[43m)\u001b[49m\n\u001b[1;32m    523\u001b[0m \u001b[38;5;28;01mif\u001b[39;00m \u001b[38;5;129;01mnot\u001b[39;00m newlines:\n\u001b[1;32m    524\u001b[0m     result \u001b[38;5;241m=\u001b[39m result\u001b[38;5;241m.\u001b[39mreplace(\u001b[38;5;124m\"\u001b[39m\u001b[38;5;130;01m\\\\\u001b[39;00m\u001b[38;5;130;01m\\n\u001b[39;00m\u001b[38;5;124m\"\u001b[39m, \u001b[38;5;124m\"\u001b[39m\u001b[38;5;124m\"\u001b[39m)\n",
      "File \u001b[0;32m~/miniforge3/envs/sage/lib/python3.12/site-packages/sage/interfaces/expect.py:1412\u001b[0m, in \u001b[0;36mExpect.eval\u001b[0;34m(self, code, strip, synchronize, locals, allow_use_file, split_lines, **kwds)\u001b[0m\n\u001b[1;32m   1410\u001b[0m     \u001b[38;5;28;01mreturn\u001b[39;00m \u001b[38;5;28mself\u001b[39m\u001b[38;5;241m.\u001b[39m_eval_line_using_file(code)\n\u001b[1;32m   1411\u001b[0m \u001b[38;5;28;01melif\u001b[39;00m split_lines:\n\u001b[0;32m-> 1412\u001b[0m     \u001b[38;5;28;01mreturn\u001b[39;00m \u001b[38;5;124;43m'\u001b[39;49m\u001b[38;5;130;43;01m\\n\u001b[39;49;00m\u001b[38;5;124;43m'\u001b[39;49m\u001b[38;5;241;43m.\u001b[39;49m\u001b[43mjoin\u001b[49m\u001b[43m(\u001b[49m\u001b[38;5;28;43mself\u001b[39;49m\u001b[38;5;241;43m.\u001b[39;49m\u001b[43m_eval_line\u001b[49m\u001b[43m(\u001b[49m\u001b[43mL\u001b[49m\u001b[43m,\u001b[49m\u001b[43m \u001b[49m\u001b[43mallow_use_file\u001b[49m\u001b[38;5;241;43m=\u001b[39;49m\u001b[43mallow_use_file\u001b[49m\u001b[43m,\u001b[49m\u001b[43m \u001b[49m\u001b[38;5;241;43m*\u001b[39;49m\u001b[38;5;241;43m*\u001b[39;49m\u001b[43mkwds\u001b[49m\u001b[43m)\u001b[49m\n\u001b[1;32m   1413\u001b[0m \u001b[43m                     \u001b[49m\u001b[38;5;28;43;01mfor\u001b[39;49;00m\u001b[43m \u001b[49m\u001b[43mL\u001b[49m\u001b[43m \u001b[49m\u001b[38;5;129;43;01min\u001b[39;49;00m\u001b[43m \u001b[49m\u001b[43mcode\u001b[49m\u001b[38;5;241;43m.\u001b[39;49m\u001b[43msplit\u001b[49m\u001b[43m(\u001b[49m\u001b[38;5;124;43m'\u001b[39;49m\u001b[38;5;130;43;01m\\n\u001b[39;49;00m\u001b[38;5;124;43m'\u001b[39;49m\u001b[43m)\u001b[49m\u001b[43m \u001b[49m\u001b[38;5;28;43;01mif\u001b[39;49;00m\u001b[43m \u001b[49m\u001b[43mL\u001b[49m\u001b[43m)\u001b[49m\n\u001b[1;32m   1414\u001b[0m \u001b[38;5;28;01melse\u001b[39;00m:\n\u001b[1;32m   1415\u001b[0m     \u001b[38;5;28;01mreturn\u001b[39;00m \u001b[38;5;28mself\u001b[39m\u001b[38;5;241m.\u001b[39m_eval_line(code, allow_use_file\u001b[38;5;241m=\u001b[39mallow_use_file, \u001b[38;5;241m*\u001b[39m\u001b[38;5;241m*\u001b[39mkwds)\n",
      "File \u001b[0;32m~/miniforge3/envs/sage/lib/python3.12/site-packages/sage/interfaces/expect.py:1412\u001b[0m, in \u001b[0;36m<genexpr>\u001b[0;34m(.0)\u001b[0m\n\u001b[1;32m   1410\u001b[0m     \u001b[38;5;28;01mreturn\u001b[39;00m \u001b[38;5;28mself\u001b[39m\u001b[38;5;241m.\u001b[39m_eval_line_using_file(code)\n\u001b[1;32m   1411\u001b[0m \u001b[38;5;28;01melif\u001b[39;00m split_lines:\n\u001b[0;32m-> 1412\u001b[0m     \u001b[38;5;28;01mreturn\u001b[39;00m \u001b[38;5;124m'\u001b[39m\u001b[38;5;130;01m\\n\u001b[39;00m\u001b[38;5;124m'\u001b[39m\u001b[38;5;241m.\u001b[39mjoin(\u001b[38;5;28;43mself\u001b[39;49m\u001b[38;5;241;43m.\u001b[39;49m\u001b[43m_eval_line\u001b[49m\u001b[43m(\u001b[49m\u001b[43mL\u001b[49m\u001b[43m,\u001b[49m\u001b[43m \u001b[49m\u001b[43mallow_use_file\u001b[49m\u001b[38;5;241;43m=\u001b[39;49m\u001b[43mallow_use_file\u001b[49m\u001b[43m,\u001b[49m\u001b[43m \u001b[49m\u001b[38;5;241;43m*\u001b[39;49m\u001b[38;5;241;43m*\u001b[39;49m\u001b[43mkwds\u001b[49m\u001b[43m)\u001b[49m\n\u001b[1;32m   1413\u001b[0m                      \u001b[38;5;28;01mfor\u001b[39;00m L \u001b[38;5;129;01min\u001b[39;00m code\u001b[38;5;241m.\u001b[39msplit(\u001b[38;5;124m'\u001b[39m\u001b[38;5;130;01m\\n\u001b[39;00m\u001b[38;5;124m'\u001b[39m) \u001b[38;5;28;01mif\u001b[39;00m L)\n\u001b[1;32m   1414\u001b[0m \u001b[38;5;28;01melse\u001b[39;00m:\n\u001b[1;32m   1415\u001b[0m     \u001b[38;5;28;01mreturn\u001b[39;00m \u001b[38;5;28mself\u001b[39m\u001b[38;5;241m.\u001b[39m_eval_line(code, allow_use_file\u001b[38;5;241m=\u001b[39mallow_use_file, \u001b[38;5;241m*\u001b[39m\u001b[38;5;241m*\u001b[39mkwds)\n",
      "File \u001b[0;32m~/miniforge3/envs/sage/lib/python3.12/site-packages/sage/interfaces/gap.py:731\u001b[0m, in \u001b[0;36mGap_generic._eval_line\u001b[0;34m(self, line, allow_use_file, wait_for_prompt, restart_if_needed)\u001b[0m\n\u001b[1;32m    729\u001b[0m             \u001b[38;5;28;01mreturn\u001b[39;00m \u001b[38;5;124m'\u001b[39m\u001b[38;5;124m'\u001b[39m\n\u001b[1;32m    730\u001b[0m     \u001b[38;5;28;01melse\u001b[39;00m:\n\u001b[0;32m--> 731\u001b[0m         \u001b[38;5;28;01mraise\u001b[39;00m \u001b[38;5;167;01mRuntimeError\u001b[39;00m(exc)\n\u001b[1;32m    733\u001b[0m \u001b[38;5;28;01mexcept\u001b[39;00m \u001b[38;5;167;01mKeyboardInterrupt\u001b[39;00m:\n\u001b[1;32m    734\u001b[0m     \u001b[38;5;28mself\u001b[39m\u001b[38;5;241m.\u001b[39m_keyboard_interrupt()\n",
      "\u001b[0;31mRuntimeError\u001b[0m: Gap produced error output\nError, Variable: 'DimensionOfRepresentation' must have a value\n\n   executing DimensionOfRepresentation(irr[1]);"
     ]
    },
    {
     "name": "stderr",
     "output_type": "stream",
     "text": [
      "IOStream.flush timed out\n",
      "IOStream.flush timed out\n"
     ]
    }
   ],
   "source": [
    "# For arbitrary finite groups, we can use GAP interface\n",
    "from sage.interfaces.gap import gap\n",
    "\n",
    "# Create a dihedral group D8 as an example\n",
    "D4 = DihedralGroup(4)  # Dihedral group of order 8\n",
    "print(f\"Order of D4: {D4.order()}\")\n",
    "\n",
    "# Initialize the group in GAP\n",
    "gap.eval(\"G := Group({});\".format([gap(g) for g in D4.gens()]))\n",
    "\n",
    "# Get irreducible representations\n",
    "gap.eval(\"irr := IrreducibleRepresentations(G);\")\n",
    "num_irr = int(gap.eval(\"Length(irr);\"))\n",
    "print(f\"\\nNumber of irreducible representations: {num_irr}\")\n",
    "\n",
    "# Print details for each irrep\n",
    "for i in range(1, num_irr + 1):\n",
    "    dim = int(gap.eval(f\"DimensionOfRepresentation(irr[{i}]);\"))\n",
    "    print(f\"\\nIrreducible representation {i}:\")\n",
    "    print(f\"Dimension: {dim}\")\n",
    "    \n",
    "    # Only show matrices for the generators to avoid excessive output\n",
    "    gens = D4.gens()\n",
    "    for j, g in enumerate(gens):\n",
    "        gap_element = gap(g)\n",
    "        matrix_str = gap.eval(f\"Display(Image(irr[{i}], {gap_element}));\")\n",
    "        print(f\"  Generator {j+1}: {g}\")\n",
    "        print(matrix_str)"
   ]
  },
  {
   "cell_type": "code",
   "execution_count": 7,
   "id": "ff62e6b0-b62e-4f50-9ded-27e9c8a7f7c2",
   "metadata": {},
   "outputs": [
    {
     "data": {
      "text/plain": [
       "[ 1  1  1  1  1]\n",
       "[ 1 -1 -1  1  1]\n",
       "[ 1 -1  1 -1  1]\n",
       "[ 1  1 -1 -1  1]\n",
       "[ 2  0  0  0 -2]"
      ]
     },
     "execution_count": 7,
     "metadata": {},
     "output_type": "execute_result"
    }
   ],
   "source": [
    "D4.character_table()"
   ]
  },
  {
   "cell_type": "code",
   "execution_count": 19,
   "id": "bfc79acd-8157-48a7-938a-6422b197b697",
   "metadata": {},
   "outputs": [
    {
     "ename": "TypeError",
     "evalue": "PermutationGroup_generic.__contains__() missing 1 required positional argument: 'item'",
     "output_type": "error",
     "traceback": [
      "\u001b[0;31m---------------------------------------------------------------------------\u001b[0m",
      "\u001b[0;31mTypeError\u001b[0m                                 Traceback (most recent call last)",
      "Cell \u001b[0;32mIn[19], line 1\u001b[0m\n\u001b[0;32m----> 1\u001b[0m \u001b[43mD4\u001b[49m\u001b[38;5;241;43m.\u001b[39;49m\u001b[38;5;21;43m__contains__\u001b[39;49m\u001b[43m(\u001b[49m\u001b[43m)\u001b[49m\n",
      "\u001b[0;31mTypeError\u001b[0m: PermutationGroup_generic.__contains__() missing 1 required positional argument: 'item'"
     ]
    }
   ],
   "source": [
    "D4._"
   ]
  },
  {
   "cell_type": "code",
   "execution_count": null,
   "id": "26b38493-a25b-4539-bc05-0c2d687e6a45",
   "metadata": {},
   "outputs": [],
   "source": []
  }
 ],
 "metadata": {
  "kernelspec": {
   "display_name": "SageMath 10.6",
   "language": "sage",
   "name": "sagemath"
  },
  "language_info": {
   "codemirror_mode": {
    "name": "ipython",
    "version": 3
   },
   "file_extension": ".py",
   "mimetype": "text/x-python",
   "name": "python",
   "nbconvert_exporter": "python",
   "pygments_lexer": "ipython3",
   "version": "3.12.10"
  }
 },
 "nbformat": 4,
 "nbformat_minor": 5
}
